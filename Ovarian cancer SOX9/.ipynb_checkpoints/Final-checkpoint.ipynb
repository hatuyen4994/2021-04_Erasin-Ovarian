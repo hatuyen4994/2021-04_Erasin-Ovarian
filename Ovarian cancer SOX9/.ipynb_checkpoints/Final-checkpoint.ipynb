{
 "cells": [
  {
   "cell_type": "code",
   "execution_count": 1,
   "metadata": {},
   "outputs": [],
   "source": [
    "import pandas as pd"
   ]
  },
  {
   "cell_type": "markdown",
   "metadata": {},
   "source": [
    "# ChIP Atlas Genes targets of SOX17 (hg38)"
   ]
  },
  {
   "cell_type": "markdown",
   "metadata": {},
   "source": [
    "The first data set is retrieved from ChIP Atlas. We went to \"Target genes\" function, in mouse genome hg38, searched in the +- 10k kb distance from the TSS of all genes to find gene targets of SOX17. \n",
    "\n",
    "Let's take a look at the dataset"
   ]
  },
  {
   "cell_type": "code",
   "execution_count": 2,
   "metadata": {},
   "outputs": [
    {
     "name": "stdout",
     "output_type": "stream",
     "text": [
      "There are 7563 genes retrieved from ChIP-Atlas \n"
     ]
    }
   ],
   "source": [
    "sox17 = pd.read_csv(\"./input/SOX17.10.hg38.tsv\", delimiter=\"\\t\")\n",
    "print(f\"There are {sox17.shape[0]} genes retrieved from ChIP-Atlas \")"
   ]
  },
  {
   "cell_type": "code",
   "execution_count": 3,
   "metadata": {
    "scrolled": true
   },
   "outputs": [
    {
     "data": {
      "text/html": [
       "<div>\n",
       "<style scoped>\n",
       "    .dataframe tbody tr th:only-of-type {\n",
       "        vertical-align: middle;\n",
       "    }\n",
       "\n",
       "    .dataframe tbody tr th {\n",
       "        vertical-align: top;\n",
       "    }\n",
       "\n",
       "    .dataframe thead th {\n",
       "        text-align: right;\n",
       "    }\n",
       "</style>\n",
       "<table border=\"1\" class=\"dataframe\">\n",
       "  <thead>\n",
       "    <tr style=\"text-align: right;\">\n",
       "      <th></th>\n",
       "      <th>Target_genes</th>\n",
       "      <th>SOX17|Average</th>\n",
       "      <th>SRX702102|hESC_derived_mesendodermal_cells</th>\n",
       "      <th>SRX702103|hESC_derived_mesendodermal_cells</th>\n",
       "      <th>SRX702104|hESC_derived_mesendodermal_cells</th>\n",
       "      <th>SRX702101|hESC_HUES64</th>\n",
       "      <th>SRX5771670|Tcam-2</th>\n",
       "      <th>SRX5771672|Tcam-2</th>\n",
       "      <th>SRX5771674|Tcam-2</th>\n",
       "      <th>STRING</th>\n",
       "    </tr>\n",
       "  </thead>\n",
       "  <tbody>\n",
       "    <tr>\n",
       "      <td>0</td>\n",
       "      <td>FAM222B</td>\n",
       "      <td>482.000000</td>\n",
       "      <td>0</td>\n",
       "      <td>0</td>\n",
       "      <td>0</td>\n",
       "      <td>0</td>\n",
       "      <td>1234</td>\n",
       "      <td>1015</td>\n",
       "      <td>1125</td>\n",
       "      <td>0</td>\n",
       "    </tr>\n",
       "    <tr>\n",
       "      <td>1</td>\n",
       "      <td>NANOS3</td>\n",
       "      <td>470.428571</td>\n",
       "      <td>0</td>\n",
       "      <td>0</td>\n",
       "      <td>0</td>\n",
       "      <td>0</td>\n",
       "      <td>1216</td>\n",
       "      <td>942</td>\n",
       "      <td>1135</td>\n",
       "      <td>0</td>\n",
       "    </tr>\n",
       "    <tr>\n",
       "      <td>2</td>\n",
       "      <td>TUBB</td>\n",
       "      <td>469.857143</td>\n",
       "      <td>0</td>\n",
       "      <td>0</td>\n",
       "      <td>0</td>\n",
       "      <td>0</td>\n",
       "      <td>1117</td>\n",
       "      <td>980</td>\n",
       "      <td>1192</td>\n",
       "      <td>0</td>\n",
       "    </tr>\n",
       "    <tr>\n",
       "      <td>3</td>\n",
       "      <td>MDC1</td>\n",
       "      <td>469.857143</td>\n",
       "      <td>0</td>\n",
       "      <td>0</td>\n",
       "      <td>0</td>\n",
       "      <td>0</td>\n",
       "      <td>1117</td>\n",
       "      <td>980</td>\n",
       "      <td>1192</td>\n",
       "      <td>0</td>\n",
       "    </tr>\n",
       "    <tr>\n",
       "      <td>4</td>\n",
       "      <td>OLFM2</td>\n",
       "      <td>455.571429</td>\n",
       "      <td>0</td>\n",
       "      <td>0</td>\n",
       "      <td>0</td>\n",
       "      <td>0</td>\n",
       "      <td>1135</td>\n",
       "      <td>987</td>\n",
       "      <td>1067</td>\n",
       "      <td>0</td>\n",
       "    </tr>\n",
       "    <tr>\n",
       "      <td>5</td>\n",
       "      <td>CPVL</td>\n",
       "      <td>440.285714</td>\n",
       "      <td>0</td>\n",
       "      <td>0</td>\n",
       "      <td>0</td>\n",
       "      <td>0</td>\n",
       "      <td>1151</td>\n",
       "      <td>972</td>\n",
       "      <td>959</td>\n",
       "      <td>0</td>\n",
       "    </tr>\n",
       "    <tr>\n",
       "      <td>6</td>\n",
       "      <td>CHN2</td>\n",
       "      <td>440.285714</td>\n",
       "      <td>0</td>\n",
       "      <td>0</td>\n",
       "      <td>0</td>\n",
       "      <td>0</td>\n",
       "      <td>1151</td>\n",
       "      <td>972</td>\n",
       "      <td>959</td>\n",
       "      <td>0</td>\n",
       "    </tr>\n",
       "    <tr>\n",
       "      <td>7</td>\n",
       "      <td>OCM</td>\n",
       "      <td>439.714286</td>\n",
       "      <td>0</td>\n",
       "      <td>0</td>\n",
       "      <td>0</td>\n",
       "      <td>0</td>\n",
       "      <td>1015</td>\n",
       "      <td>1057</td>\n",
       "      <td>1006</td>\n",
       "      <td>0</td>\n",
       "    </tr>\n",
       "    <tr>\n",
       "      <td>8</td>\n",
       "      <td>CYP4A22</td>\n",
       "      <td>437.714286</td>\n",
       "      <td>0</td>\n",
       "      <td>0</td>\n",
       "      <td>0</td>\n",
       "      <td>0</td>\n",
       "      <td>1124</td>\n",
       "      <td>1010</td>\n",
       "      <td>930</td>\n",
       "      <td>0</td>\n",
       "    </tr>\n",
       "    <tr>\n",
       "      <td>9</td>\n",
       "      <td>COL17A1</td>\n",
       "      <td>433.857143</td>\n",
       "      <td>0</td>\n",
       "      <td>0</td>\n",
       "      <td>0</td>\n",
       "      <td>0</td>\n",
       "      <td>1045</td>\n",
       "      <td>912</td>\n",
       "      <td>1080</td>\n",
       "      <td>0</td>\n",
       "    </tr>\n",
       "  </tbody>\n",
       "</table>\n",
       "</div>"
      ],
      "text/plain": [
       "  Target_genes  SOX17|Average  SRX702102|hESC_derived_mesendodermal_cells  \\\n",
       "0      FAM222B     482.000000                                           0   \n",
       "1       NANOS3     470.428571                                           0   \n",
       "2         TUBB     469.857143                                           0   \n",
       "3         MDC1     469.857143                                           0   \n",
       "4        OLFM2     455.571429                                           0   \n",
       "5         CPVL     440.285714                                           0   \n",
       "6         CHN2     440.285714                                           0   \n",
       "7          OCM     439.714286                                           0   \n",
       "8      CYP4A22     437.714286                                           0   \n",
       "9      COL17A1     433.857143                                           0   \n",
       "\n",
       "   SRX702103|hESC_derived_mesendodermal_cells  \\\n",
       "0                                           0   \n",
       "1                                           0   \n",
       "2                                           0   \n",
       "3                                           0   \n",
       "4                                           0   \n",
       "5                                           0   \n",
       "6                                           0   \n",
       "7                                           0   \n",
       "8                                           0   \n",
       "9                                           0   \n",
       "\n",
       "   SRX702104|hESC_derived_mesendodermal_cells  SRX702101|hESC_HUES64  \\\n",
       "0                                           0                      0   \n",
       "1                                           0                      0   \n",
       "2                                           0                      0   \n",
       "3                                           0                      0   \n",
       "4                                           0                      0   \n",
       "5                                           0                      0   \n",
       "6                                           0                      0   \n",
       "7                                           0                      0   \n",
       "8                                           0                      0   \n",
       "9                                           0                      0   \n",
       "\n",
       "   SRX5771670|Tcam-2  SRX5771672|Tcam-2  SRX5771674|Tcam-2  STRING  \n",
       "0               1234               1015               1125       0  \n",
       "1               1216                942               1135       0  \n",
       "2               1117                980               1192       0  \n",
       "3               1117                980               1192       0  \n",
       "4               1135                987               1067       0  \n",
       "5               1151                972                959       0  \n",
       "6               1151                972                959       0  \n",
       "7               1015               1057               1006       0  \n",
       "8               1124               1010                930       0  \n",
       "9               1045                912               1080       0  "
      ]
     },
     "execution_count": 3,
     "metadata": {},
     "output_type": "execute_result"
    }
   ],
   "source": [
    "sox17[:10]"
   ]
  },
  {
   "cell_type": "markdown",
   "metadata": {},
   "source": [
    "We only wanted the first and second columns (which is the score).  "
   ]
  },
  {
   "cell_type": "code",
   "execution_count": 4,
   "metadata": {},
   "outputs": [],
   "source": [
    "sox17.rename(columns={\"SOX17|Average\":\"Score\"}, inplace=True)"
   ]
  },
  {
   "cell_type": "code",
   "execution_count": 5,
   "metadata": {},
   "outputs": [
    {
     "data": {
      "text/html": [
       "<div>\n",
       "<style scoped>\n",
       "    .dataframe tbody tr th:only-of-type {\n",
       "        vertical-align: middle;\n",
       "    }\n",
       "\n",
       "    .dataframe tbody tr th {\n",
       "        vertical-align: top;\n",
       "    }\n",
       "\n",
       "    .dataframe thead th {\n",
       "        text-align: right;\n",
       "    }\n",
       "</style>\n",
       "<table border=\"1\" class=\"dataframe\">\n",
       "  <thead>\n",
       "    <tr style=\"text-align: right;\">\n",
       "      <th></th>\n",
       "      <th>Target_genes</th>\n",
       "      <th>Score</th>\n",
       "    </tr>\n",
       "  </thead>\n",
       "  <tbody>\n",
       "    <tr>\n",
       "      <td>0</td>\n",
       "      <td>FAM222B</td>\n",
       "      <td>482.000000</td>\n",
       "    </tr>\n",
       "    <tr>\n",
       "      <td>1</td>\n",
       "      <td>NANOS3</td>\n",
       "      <td>470.428571</td>\n",
       "    </tr>\n",
       "    <tr>\n",
       "      <td>2</td>\n",
       "      <td>TUBB</td>\n",
       "      <td>469.857143</td>\n",
       "    </tr>\n",
       "    <tr>\n",
       "      <td>3</td>\n",
       "      <td>MDC1</td>\n",
       "      <td>469.857143</td>\n",
       "    </tr>\n",
       "    <tr>\n",
       "      <td>4</td>\n",
       "      <td>OLFM2</td>\n",
       "      <td>455.571429</td>\n",
       "    </tr>\n",
       "    <tr>\n",
       "      <td>5</td>\n",
       "      <td>CPVL</td>\n",
       "      <td>440.285714</td>\n",
       "    </tr>\n",
       "    <tr>\n",
       "      <td>6</td>\n",
       "      <td>CHN2</td>\n",
       "      <td>440.285714</td>\n",
       "    </tr>\n",
       "    <tr>\n",
       "      <td>7</td>\n",
       "      <td>OCM</td>\n",
       "      <td>439.714286</td>\n",
       "    </tr>\n",
       "    <tr>\n",
       "      <td>8</td>\n",
       "      <td>CYP4A22</td>\n",
       "      <td>437.714286</td>\n",
       "    </tr>\n",
       "    <tr>\n",
       "      <td>9</td>\n",
       "      <td>COL17A1</td>\n",
       "      <td>433.857143</td>\n",
       "    </tr>\n",
       "  </tbody>\n",
       "</table>\n",
       "</div>"
      ],
      "text/plain": [
       "  Target_genes       Score\n",
       "0      FAM222B  482.000000\n",
       "1       NANOS3  470.428571\n",
       "2         TUBB  469.857143\n",
       "3         MDC1  469.857143\n",
       "4        OLFM2  455.571429\n",
       "5         CPVL  440.285714\n",
       "6         CHN2  440.285714\n",
       "7          OCM  439.714286\n",
       "8      CYP4A22  437.714286\n",
       "9      COL17A1  433.857143"
      ]
     },
     "execution_count": 5,
     "metadata": {},
     "output_type": "execute_result"
    }
   ],
   "source": [
    "sox17[:][[\"Target_genes\",\"Score\"]].to_csv(\"./input/sox17_targets.csv\", header=True, index=False)\n",
    "sox17_targets = pd.read_csv(\"./input/sox17_targets.csv\")\n",
    "sox17_targets[:10]"
   ]
  },
  {
   "cell_type": "markdown",
   "metadata": {},
   "source": [
    "Let's put the gene names in upper case for easier search down the way"
   ]
  },
  {
   "cell_type": "code",
   "execution_count": 6,
   "metadata": {
    "scrolled": true
   },
   "outputs": [
    {
     "data": {
      "text/html": [
       "<div>\n",
       "<style scoped>\n",
       "    .dataframe tbody tr th:only-of-type {\n",
       "        vertical-align: middle;\n",
       "    }\n",
       "\n",
       "    .dataframe tbody tr th {\n",
       "        vertical-align: top;\n",
       "    }\n",
       "\n",
       "    .dataframe thead th {\n",
       "        text-align: right;\n",
       "    }\n",
       "</style>\n",
       "<table border=\"1\" class=\"dataframe\">\n",
       "  <thead>\n",
       "    <tr style=\"text-align: right;\">\n",
       "      <th></th>\n",
       "      <th>Target_genes</th>\n",
       "      <th>Score</th>\n",
       "    </tr>\n",
       "  </thead>\n",
       "  <tbody>\n",
       "    <tr>\n",
       "      <td>0</td>\n",
       "      <td>FAM222B</td>\n",
       "      <td>482.000000</td>\n",
       "    </tr>\n",
       "    <tr>\n",
       "      <td>1</td>\n",
       "      <td>NANOS3</td>\n",
       "      <td>470.428571</td>\n",
       "    </tr>\n",
       "    <tr>\n",
       "      <td>2</td>\n",
       "      <td>TUBB</td>\n",
       "      <td>469.857143</td>\n",
       "    </tr>\n",
       "    <tr>\n",
       "      <td>3</td>\n",
       "      <td>MDC1</td>\n",
       "      <td>469.857143</td>\n",
       "    </tr>\n",
       "    <tr>\n",
       "      <td>4</td>\n",
       "      <td>OLFM2</td>\n",
       "      <td>455.571429</td>\n",
       "    </tr>\n",
       "    <tr>\n",
       "      <td>5</td>\n",
       "      <td>CPVL</td>\n",
       "      <td>440.285714</td>\n",
       "    </tr>\n",
       "    <tr>\n",
       "      <td>6</td>\n",
       "      <td>CHN2</td>\n",
       "      <td>440.285714</td>\n",
       "    </tr>\n",
       "    <tr>\n",
       "      <td>7</td>\n",
       "      <td>OCM</td>\n",
       "      <td>439.714286</td>\n",
       "    </tr>\n",
       "    <tr>\n",
       "      <td>8</td>\n",
       "      <td>CYP4A22</td>\n",
       "      <td>437.714286</td>\n",
       "    </tr>\n",
       "    <tr>\n",
       "      <td>9</td>\n",
       "      <td>COL17A1</td>\n",
       "      <td>433.857143</td>\n",
       "    </tr>\n",
       "  </tbody>\n",
       "</table>\n",
       "</div>"
      ],
      "text/plain": [
       "  Target_genes       Score\n",
       "0      FAM222B  482.000000\n",
       "1       NANOS3  470.428571\n",
       "2         TUBB  469.857143\n",
       "3         MDC1  469.857143\n",
       "4        OLFM2  455.571429\n",
       "5         CPVL  440.285714\n",
       "6         CHN2  440.285714\n",
       "7          OCM  439.714286\n",
       "8      CYP4A22  437.714286\n",
       "9      COL17A1  433.857143"
      ]
     },
     "execution_count": 6,
     "metadata": {},
     "output_type": "execute_result"
    }
   ],
   "source": [
    "sox17_targets[:][\"Target_genes\"] = sox17_targets[:][\"Target_genes\"].apply(lambda x:x.upper())\n",
    "sox17_targets[:10]"
   ]
  },
  {
   "cell_type": "markdown",
   "metadata": {},
   "source": [
    "# HPA - Genes expressed in favorable and unfavorable ovarian cancer prognostics "
   ]
  },
  {
   "cell_type": "markdown",
   "metadata": {},
   "source": [
    "Here, we want a list of genes that are expressed in human ovarian cancer from Human Protein Atlas data base (HPA). We do did by query the Human Protein Atlas database with \"prognostic:Ovarian cancer;Unfavorable\" or \"prognostic:Ovarian cancer;Favorable\".\n",
    "\n",
    "This will give us 2 list of genes that are expressed in human ovarian cancer with evidence from IHC with favorable and unfavorable prognostics"
   ]
  },
  {
   "cell_type": "markdown",
   "metadata": {},
   "source": [
    "#### Favorable prognostic"
   ]
  },
  {
   "cell_type": "code",
   "execution_count": 7,
   "metadata": {
    "scrolled": false
   },
   "outputs": [
    {
     "name": "stdout",
     "output_type": "stream",
     "text": [
      "There are 357 genes expressed in favorable prognostic of ovarian caner\n"
     ]
    }
   ],
   "source": [
    "ovc_fav = pd.read_csv(\"./input/prognostic_Ovarian_favorable.tsv\",delimiter=\"\\t\", usecols=[0,1,2,3])\n",
    "print(f\"There are {ovc_fav.shape[0]} genes expressed in favorable prognostic of ovarian caner\")"
   ]
  },
  {
   "cell_type": "markdown",
   "metadata": {},
   "source": [
    "Make sure to put all the gene names in upper case.Let's take a look at the data set"
   ]
  },
  {
   "cell_type": "code",
   "execution_count": 8,
   "metadata": {
    "scrolled": false
   },
   "outputs": [
    {
     "data": {
      "text/html": [
       "<div>\n",
       "<style scoped>\n",
       "    .dataframe tbody tr th:only-of-type {\n",
       "        vertical-align: middle;\n",
       "    }\n",
       "\n",
       "    .dataframe tbody tr th {\n",
       "        vertical-align: top;\n",
       "    }\n",
       "\n",
       "    .dataframe thead th {\n",
       "        text-align: right;\n",
       "    }\n",
       "</style>\n",
       "<table border=\"1\" class=\"dataframe\">\n",
       "  <thead>\n",
       "    <tr style=\"text-align: right;\">\n",
       "      <th></th>\n",
       "      <th>Gene</th>\n",
       "      <th>Gene synonym</th>\n",
       "      <th>Ensembl</th>\n",
       "      <th>Gene description</th>\n",
       "    </tr>\n",
       "  </thead>\n",
       "  <tbody>\n",
       "    <tr>\n",
       "      <td>0</td>\n",
       "      <td>AADAC</td>\n",
       "      <td>CES5A1, DAC</td>\n",
       "      <td>ENSG00000114771</td>\n",
       "      <td>Arylacetamide deacetylase</td>\n",
       "    </tr>\n",
       "    <tr>\n",
       "      <td>1</td>\n",
       "      <td>ABT1</td>\n",
       "      <td>Esf2</td>\n",
       "      <td>ENSG00000146109</td>\n",
       "      <td>Activator of basal transcription 1</td>\n",
       "    </tr>\n",
       "    <tr>\n",
       "      <td>2</td>\n",
       "      <td>ACOT13</td>\n",
       "      <td>HT012, THEM2</td>\n",
       "      <td>ENSG00000112304</td>\n",
       "      <td>Acyl-CoA thioesterase 13</td>\n",
       "    </tr>\n",
       "    <tr>\n",
       "      <td>3</td>\n",
       "      <td>ACSM3</td>\n",
       "      <td>SA, SAH</td>\n",
       "      <td>ENSG00000005187</td>\n",
       "      <td>Acyl-CoA synthetase medium chain family member 3</td>\n",
       "    </tr>\n",
       "    <tr>\n",
       "      <td>4</td>\n",
       "      <td>ADA2</td>\n",
       "      <td>ADGF, CECR1, IDGFL</td>\n",
       "      <td>ENSG00000093072</td>\n",
       "      <td>Adenosine deaminase 2</td>\n",
       "    </tr>\n",
       "    <tr>\n",
       "      <td>5</td>\n",
       "      <td>ADIPOR1</td>\n",
       "      <td>ACDCR1, PAQR1</td>\n",
       "      <td>ENSG00000159346</td>\n",
       "      <td>Adiponectin receptor 1</td>\n",
       "    </tr>\n",
       "    <tr>\n",
       "      <td>6</td>\n",
       "      <td>ADRA1B</td>\n",
       "      <td>NaN</td>\n",
       "      <td>ENSG00000170214</td>\n",
       "      <td>Adrenoceptor alpha 1B</td>\n",
       "    </tr>\n",
       "    <tr>\n",
       "      <td>7</td>\n",
       "      <td>AKT1</td>\n",
       "      <td>AKT, PKB, PRKBA, RAC</td>\n",
       "      <td>ENSG00000142208</td>\n",
       "      <td>AKT serine/threonine kinase 1</td>\n",
       "    </tr>\n",
       "    <tr>\n",
       "      <td>8</td>\n",
       "      <td>ALDH5A1</td>\n",
       "      <td>SSADH, SSDH</td>\n",
       "      <td>ENSG00000112294</td>\n",
       "      <td>Aldehyde dehydrogenase 5 family member A1</td>\n",
       "    </tr>\n",
       "    <tr>\n",
       "      <td>9</td>\n",
       "      <td>ALG1L2</td>\n",
       "      <td>NaN</td>\n",
       "      <td>ENSG00000251287</td>\n",
       "      <td>ALG1, chitobiosyldiphosphodolichol beta-mannos...</td>\n",
       "    </tr>\n",
       "  </tbody>\n",
       "</table>\n",
       "</div>"
      ],
      "text/plain": [
       "      Gene          Gene synonym          Ensembl  \\\n",
       "0    AADAC           CES5A1, DAC  ENSG00000114771   \n",
       "1     ABT1                  Esf2  ENSG00000146109   \n",
       "2   ACOT13          HT012, THEM2  ENSG00000112304   \n",
       "3    ACSM3               SA, SAH  ENSG00000005187   \n",
       "4     ADA2    ADGF, CECR1, IDGFL  ENSG00000093072   \n",
       "5  ADIPOR1         ACDCR1, PAQR1  ENSG00000159346   \n",
       "6   ADRA1B                   NaN  ENSG00000170214   \n",
       "7     AKT1  AKT, PKB, PRKBA, RAC  ENSG00000142208   \n",
       "8  ALDH5A1           SSADH, SSDH  ENSG00000112294   \n",
       "9   ALG1L2                   NaN  ENSG00000251287   \n",
       "\n",
       "                                    Gene description  \n",
       "0                          Arylacetamide deacetylase  \n",
       "1                 Activator of basal transcription 1  \n",
       "2                           Acyl-CoA thioesterase 13  \n",
       "3   Acyl-CoA synthetase medium chain family member 3  \n",
       "4                              Adenosine deaminase 2  \n",
       "5                             Adiponectin receptor 1  \n",
       "6                              Adrenoceptor alpha 1B  \n",
       "7                      AKT serine/threonine kinase 1  \n",
       "8          Aldehyde dehydrogenase 5 family member A1  \n",
       "9  ALG1, chitobiosyldiphosphodolichol beta-mannos...  "
      ]
     },
     "execution_count": 8,
     "metadata": {},
     "output_type": "execute_result"
    }
   ],
   "source": [
    "ovc_fav[:][\"Gene\"] = ovc_fav[:][\"Gene\"].apply(lambda x:x.upper())\n",
    "ovc_fav[:10]"
   ]
  },
  {
   "cell_type": "markdown",
   "metadata": {},
   "source": [
    "#### Unfavorable prognostic"
   ]
  },
  {
   "cell_type": "code",
   "execution_count": 9,
   "metadata": {
    "scrolled": false
   },
   "outputs": [
    {
     "name": "stdout",
     "output_type": "stream",
     "text": [
      "There are 152 genes expressed in unfavorable prognostic of ovarian caner\n"
     ]
    }
   ],
   "source": [
    "ovc_unfav = pd.read_csv(\"./input/prognostic_Ovarian_unfavorable.tsv\",delimiter=\"\\t\", usecols=[0,1,2,3])\n",
    "print(f\"There are {ovc_unfav.shape[0]} genes expressed in unfavorable prognostic of ovarian caner\")"
   ]
  },
  {
   "cell_type": "markdown",
   "metadata": {},
   "source": [
    "Make sure to put all the gene names in upper case.Let's take a look at the data set"
   ]
  },
  {
   "cell_type": "code",
   "execution_count": 10,
   "metadata": {
    "scrolled": false
   },
   "outputs": [
    {
     "data": {
      "text/html": [
       "<div>\n",
       "<style scoped>\n",
       "    .dataframe tbody tr th:only-of-type {\n",
       "        vertical-align: middle;\n",
       "    }\n",
       "\n",
       "    .dataframe tbody tr th {\n",
       "        vertical-align: top;\n",
       "    }\n",
       "\n",
       "    .dataframe thead th {\n",
       "        text-align: right;\n",
       "    }\n",
       "</style>\n",
       "<table border=\"1\" class=\"dataframe\">\n",
       "  <thead>\n",
       "    <tr style=\"text-align: right;\">\n",
       "      <th></th>\n",
       "      <th>Gene</th>\n",
       "      <th>Gene synonym</th>\n",
       "      <th>Ensembl</th>\n",
       "      <th>Gene description</th>\n",
       "    </tr>\n",
       "  </thead>\n",
       "  <tbody>\n",
       "    <tr>\n",
       "      <td>0</td>\n",
       "      <td>AAK1</td>\n",
       "      <td>DKFZp686K16132, KIAA1048</td>\n",
       "      <td>ENSG00000115977</td>\n",
       "      <td>AP2 associated kinase 1</td>\n",
       "    </tr>\n",
       "    <tr>\n",
       "      <td>1</td>\n",
       "      <td>AGAP1</td>\n",
       "      <td>CENTG2, GGAP1, KIAA1099</td>\n",
       "      <td>ENSG00000157985</td>\n",
       "      <td>ArfGAP with GTPase domain, ankyrin repeat and ...</td>\n",
       "    </tr>\n",
       "    <tr>\n",
       "      <td>2</td>\n",
       "      <td>AGFG1</td>\n",
       "      <td>HRB, RAB, RIP</td>\n",
       "      <td>ENSG00000173744</td>\n",
       "      <td>ArfGAP with FG repeats 1</td>\n",
       "    </tr>\n",
       "    <tr>\n",
       "      <td>3</td>\n",
       "      <td>AHDC1</td>\n",
       "      <td>DJ159A19.3, RP1-159A19.1</td>\n",
       "      <td>ENSG00000126705</td>\n",
       "      <td>AT-hook DNA binding motif containing 1</td>\n",
       "    </tr>\n",
       "    <tr>\n",
       "      <td>4</td>\n",
       "      <td>AL136454.1</td>\n",
       "      <td>NaN</td>\n",
       "      <td>ENSG00000231767</td>\n",
       "      <td>NaN</td>\n",
       "    </tr>\n",
       "    <tr>\n",
       "      <td>5</td>\n",
       "      <td>ALOX5AP</td>\n",
       "      <td>FLAP</td>\n",
       "      <td>ENSG00000132965</td>\n",
       "      <td>Arachidonate 5-lipoxygenase activating protein</td>\n",
       "    </tr>\n",
       "    <tr>\n",
       "      <td>6</td>\n",
       "      <td>ANKRD13A</td>\n",
       "      <td>ANKRD13, NY-REN-25</td>\n",
       "      <td>ENSG00000076513</td>\n",
       "      <td>Ankyrin repeat domain 13A</td>\n",
       "    </tr>\n",
       "    <tr>\n",
       "      <td>7</td>\n",
       "      <td>ANXA4</td>\n",
       "      <td>ANX4</td>\n",
       "      <td>ENSG00000196975</td>\n",
       "      <td>Annexin A4</td>\n",
       "    </tr>\n",
       "    <tr>\n",
       "      <td>8</td>\n",
       "      <td>AP2A1</td>\n",
       "      <td>ADTAA, CLAPA1</td>\n",
       "      <td>ENSG00000196961</td>\n",
       "      <td>Adaptor related protein complex 2 alpha 1 subunit</td>\n",
       "    </tr>\n",
       "    <tr>\n",
       "      <td>9</td>\n",
       "      <td>ARID1B</td>\n",
       "      <td>6A3-5, BAF250b, DAN15, ELD/OSA1, KIAA1235, p250R</td>\n",
       "      <td>ENSG00000049618</td>\n",
       "      <td>AT-rich interaction domain 1B</td>\n",
       "    </tr>\n",
       "  </tbody>\n",
       "</table>\n",
       "</div>"
      ],
      "text/plain": [
       "         Gene                                      Gene synonym  \\\n",
       "0        AAK1                          DKFZp686K16132, KIAA1048   \n",
       "1       AGAP1                           CENTG2, GGAP1, KIAA1099   \n",
       "2       AGFG1                                     HRB, RAB, RIP   \n",
       "3       AHDC1                          DJ159A19.3, RP1-159A19.1   \n",
       "4  AL136454.1                                               NaN   \n",
       "5     ALOX5AP                                              FLAP   \n",
       "6    ANKRD13A                                ANKRD13, NY-REN-25   \n",
       "7       ANXA4                                              ANX4   \n",
       "8       AP2A1                                     ADTAA, CLAPA1   \n",
       "9      ARID1B  6A3-5, BAF250b, DAN15, ELD/OSA1, KIAA1235, p250R   \n",
       "\n",
       "           Ensembl                                   Gene description  \n",
       "0  ENSG00000115977                            AP2 associated kinase 1  \n",
       "1  ENSG00000157985  ArfGAP with GTPase domain, ankyrin repeat and ...  \n",
       "2  ENSG00000173744                           ArfGAP with FG repeats 1  \n",
       "3  ENSG00000126705             AT-hook DNA binding motif containing 1  \n",
       "4  ENSG00000231767                                                NaN  \n",
       "5  ENSG00000132965     Arachidonate 5-lipoxygenase activating protein  \n",
       "6  ENSG00000076513                          Ankyrin repeat domain 13A  \n",
       "7  ENSG00000196975                                         Annexin A4  \n",
       "8  ENSG00000196961  Adaptor related protein complex 2 alpha 1 subunit  \n",
       "9  ENSG00000049618                      AT-rich interaction domain 1B  "
      ]
     },
     "execution_count": 10,
     "metadata": {},
     "output_type": "execute_result"
    }
   ],
   "source": [
    "ovc_unfav[:][\"Gene\"] = ovc_unfav[:][\"Gene\"].apply(lambda x:x.upper())\n",
    "ovc_unfav[:10]"
   ]
  },
  {
   "cell_type": "markdown",
   "metadata": {},
   "source": [
    "Lucky for us, the data set from hpa also contain gene synonym. This will help us in the next step."
   ]
  },
  {
   "cell_type": "markdown",
   "metadata": {},
   "source": [
    "# Common genes"
   ]
  },
  {
   "cell_type": "markdown",
   "metadata": {},
   "source": [
    "Our final goal is to find genes that are the targets of SOX17 that are expressed in ovarian cancer in either favorable or unfavorable prognostic. \n",
    "\n",
    "One gene can have different names. In order to make sure that we don't miss any common genes just because they are synonyms in datasets, we constructed a synonym reference, taking advantage of the gene synonym from HPA data set.\n",
    "\n",
    "We also try to include in the score obtain from the Stat3 data to evaluate the likelihood of a Stat3 target"
   ]
  },
  {
   "cell_type": "markdown",
   "metadata": {},
   "source": [
    "#### Constructing the HPA synonym reference"
   ]
  },
  {
   "cell_type": "code",
   "execution_count": 11,
   "metadata": {},
   "outputs": [],
   "source": [
    "genes_hpa_fav = list(ovc_fav.Gene)\n",
    "#original to synonyms reference\n",
    "genes_synonyms_hpa = {}\n",
    "\n",
    "#synonyms to original reference\n",
    "synonyms_genes_hpa = {}\n",
    "\n",
    "for gene,syns in zip(genes_hpa_fav,ovc_fav[\"Gene synonym\"]):\n",
    "    genes_synonyms_hpa[gene] = [syns]\n",
    "    if type(syns) == float:\n",
    "        continue\n",
    "    else:\n",
    "        for s in syns.split(\", \"):\n",
    "            synonyms_genes_hpa[s.upper()] = gene            "
   ]
  },
  {
   "cell_type": "markdown",
   "metadata": {},
   "source": [
    "#### Favorable_OVC vs HPA"
   ]
  },
  {
   "cell_type": "code",
   "execution_count": 12,
   "metadata": {},
   "outputs": [],
   "source": [
    "sox17_targets_list = list(sox17_targets.Target_genes)\n",
    "sox17_scores_list = list(sox17_targets.Score)"
   ]
  },
  {
   "cell_type": "code",
   "execution_count": 13,
   "metadata": {},
   "outputs": [],
   "source": [
    "sox17_ovc_fav = []\n",
    "sox17_ovc_fav_score = {}\n",
    "for g,s in zip(sox17_targets_list,sox17_scores_list):\n",
    "    if g in genes_synonyms_hpa:\n",
    "        sox17_ovc_fav.append(g)\n",
    "        sox17_ovc_fav_score[g] = s\n",
    "    if g in synonyms_genes_hpa:\n",
    "        sox17_ovc_fav.append(synonyms_genes_hpa[g])\n",
    "        sox17_ovc_fav_score[synonyms_genes_hpa[g]] = s"
   ]
  },
  {
   "cell_type": "code",
   "execution_count": 14,
   "metadata": {
    "scrolled": true
   },
   "outputs": [
    {
     "name": "stdout",
     "output_type": "stream",
     "text": [
      "we have 149 hit\n"
     ]
    }
   ],
   "source": [
    "print(f\"we have {len(sox17_ovc_fav)} hit\")"
   ]
  },
  {
   "cell_type": "markdown",
   "metadata": {},
   "source": [
    "Let's try to remove any duplicates"
   ]
  },
  {
   "cell_type": "code",
   "execution_count": 15,
   "metadata": {
    "scrolled": true
   },
   "outputs": [
    {
     "name": "stdout",
     "output_type": "stream",
     "text": [
      "After duplicates elimination, we have 147 hit\n"
     ]
    }
   ],
   "source": [
    "sox17_ovc_fav = set(sox17_ovc_fav)\n",
    "print(f\"After duplicates elimination, we have {len(sox17_ovc_fav)} hit\")"
   ]
  },
  {
   "cell_type": "code",
   "execution_count": 16,
   "metadata": {
    "scrolled": true
   },
   "outputs": [
    {
     "name": "stdout",
     "output_type": "stream",
     "text": [
      "{'OSGEPL1', 'ZNF83', 'FEN1', 'SOSTDC1', 'CCAR1', 'ORAI1', 'DHRS4L2', 'UTP4', 'CAAP1', 'SMIM27', 'RALBP1', 'CAMTA1', 'LMO4', 'TAF13', 'GCH1', 'HLA-A', 'CASP8', 'FLOT1', 'HOMEZ', 'AMMECR1', 'SERPINB6', 'SMU1', 'ZNF121', 'UBR2', 'WDR83OS', 'HPDL', 'GALNT6', 'VPS29', 'TCEAL3', 'TMEM258', 'PLAA', 'FZD3', 'ZNF354A', 'C1ORF115', 'CASP2', 'HEXIM2', 'ZNF641', 'PCBP2', 'HDGF', 'DNAJA1', 'TOPORS', 'FOXA2', 'EXOSC4', 'ANAPC15', 'GNAS', 'C6ORF62', 'SNRPE', 'HLA-DOB', 'MRS2', 'C18ORF21', 'ZNF184', 'OCIAD2', 'PLPP5', 'ZNF429', 'SMUG1', 'SLC7A11', 'CHRAC1', 'CENPL', 'ZNF391', 'MAN1A2', 'MAGOHB', 'PARP9', 'SLAMF7', 'PPIL3', 'UBE2L3', 'TRIM38', 'MRPS11', 'IDO1', 'FBXO9', 'FBXO16', 'NDUFS5', 'JPT1', 'PACSIN3', 'ZNF85', 'PTPN2', 'UBE2J1', 'DYDC2', 'CCDC34', 'ERGIC2', 'SERPING1', 'EMC9', 'PSMB5', 'IFRD1', 'EIF4E3', 'CALR', 'GSTZ1', 'ADRA1B', 'CXCR4', 'PRIM2', 'UBAP2', 'ZNF714', 'TMEM53', 'SEM1', 'NFX1', 'WLS', 'ZNF93', 'SSBP1', 'SEC22B', 'GNL2', 'ODR4', 'NOL7', 'KCTD14', 'DCUN1D5', 'CENPH', 'HSP90AB1', 'FAM177A1', 'TPM3', 'ZNF708', 'DGLUCY', 'SELENOH', 'SYNCRIP', 'GPR37', 'RAP2B', 'ZNF43', 'METTL3', 'TRA2B', 'ISG20', 'MAP3K13', 'HIBCH', 'TSPAN13', 'ALG1L2', 'GPM6B', 'UXS1', 'KIAA1324', 'ORC6', 'SNRPD1', 'AKT1', 'JTB', 'GBP1', 'MED19', 'TBC1D7', 'NUP35', 'TCAF1', 'RTL8A', 'ADIPOR1', 'ETV7', 'SRSF3', 'ZNF610', 'LRIF1', 'TERF2IP', 'POMZP3', 'COA4', 'CREB3', 'PBX2', 'CIR1', 'COX20', 'GMPR'}\n"
     ]
    }
   ],
   "source": [
    "print(sox17_ovc_fav)"
   ]
  },
  {
   "cell_type": "markdown",
   "metadata": {},
   "source": [
    "#### Unfavorable_OVC vs HPA"
   ]
  },
  {
   "cell_type": "code",
   "execution_count": 17,
   "metadata": {},
   "outputs": [],
   "source": [
    "genes_hpa_unfav = list(ovc_unfav.Gene)\n",
    "#original to synonyms reference\n",
    "genes_synonyms_hpa = {}\n",
    "\n",
    "#synonyms to original reference\n",
    "synonyms_genes_hpa = {}\n",
    "\n",
    "for gene,syns in zip(genes_hpa_unfav,ovc_unfav[\"Gene synonym\"]):\n",
    "    genes_synonyms_hpa[gene] = [syns]\n",
    "    if type(syns) == float:\n",
    "        continue\n",
    "    else:\n",
    "        for s in syns.split(\", \"):\n",
    "            synonyms_genes_hpa[s.upper()] = gene            "
   ]
  },
  {
   "cell_type": "code",
   "execution_count": 18,
   "metadata": {},
   "outputs": [],
   "source": [
    "sox17_ovc_unfav = []\n",
    "sox17_ovc_unfav_score = {}\n",
    "for g,s in zip(sox17_targets_list,sox17_scores_list):\n",
    "    if g in genes_synonyms_hpa:\n",
    "        sox17_ovc_unfav.append(g)\n",
    "        sox17_ovc_unfav_score[g] = s\n",
    "    if g in synonyms_genes_hpa:\n",
    "        sox17_ovc_unfav.append(synonyms_genes_hpa[g])\n",
    "        sox17_ovc_unfav_score[synonyms_genes_hpa[g]] = s"
   ]
  },
  {
   "cell_type": "code",
   "execution_count": 19,
   "metadata": {},
   "outputs": [
    {
     "name": "stdout",
     "output_type": "stream",
     "text": [
      "we have 70 hit\n"
     ]
    }
   ],
   "source": [
    "print(f\"we have {len(sox17_ovc_unfav)} hit\")"
   ]
  },
  {
   "cell_type": "code",
   "execution_count": 20,
   "metadata": {
    "scrolled": true
   },
   "outputs": [
    {
     "name": "stdout",
     "output_type": "stream",
     "text": [
      "After duplicates elimination, we have 68 hit\n"
     ]
    }
   ],
   "source": [
    "sox17_ovc_unfav = set(sox17_ovc_unfav)\n",
    "print(f\"After duplicates elimination, we have {len(sox17_ovc_unfav)} hit\")"
   ]
  },
  {
   "cell_type": "code",
   "execution_count": 21,
   "metadata": {},
   "outputs": [
    {
     "name": "stdout",
     "output_type": "stream",
     "text": [
      "{'SLC9A1', 'PC', 'EHD2', 'HDAC4', 'TCF15', 'TMEM181', 'CAVIN1', 'SLC12A9', 'CLDN4', 'CERCAM', 'SPIDR', 'CNNM4', 'MYO9B', 'NUMBL', 'SCAF8', 'KRT7', 'NOTCH2', 'SH3PXD2A', 'GRB7', 'SPOCK2', 'CD163', 'RECQL', 'EMP1', 'TRIL', 'ARRDC2', 'DAGLB', 'ASAP3', 'AP2A1', 'KIF26B', 'NRROS', 'SPOCK1', 'CCNE1', 'NDST1', 'UNC5B', 'SOGA1', 'PLAC9', 'MYC', 'CST4', 'TPCN2', 'RAI1', 'DSE', 'C5AR1', 'WTAP', 'SNX33', 'EPB41L2', 'TBC1D22A', 'MYO18A', 'ANKRD13A', 'WASF2', 'LRCH1', 'EPHA4', 'JADE2', 'MYPOP', 'POLR1A', 'TSC22D1', 'FSTL3', 'RIPK4', 'RCBTB1', 'RPS6KA2', 'MMP14', 'TTC7A', 'SCNN1A', 'GAL3ST4', 'AGFG1', 'PDP1', 'SRGAP1', 'PCDHGC3', 'ALOX5AP'}\n"
     ]
    }
   ],
   "source": [
    "print(sox17_ovc_unfav)"
   ]
  },
  {
   "cell_type": "markdown",
   "metadata": {},
   "source": [
    "# Let's save the result "
   ]
  },
  {
   "cell_type": "markdown",
   "metadata": {},
   "source": [
    "#### Sox17 targets that are favorable in ovarian cancer"
   ]
  },
  {
   "cell_type": "code",
   "execution_count": 22,
   "metadata": {
    "scrolled": true
   },
   "outputs": [
    {
     "data": {
      "text/html": [
       "<div>\n",
       "<style scoped>\n",
       "    .dataframe tbody tr th:only-of-type {\n",
       "        vertical-align: middle;\n",
       "    }\n",
       "\n",
       "    .dataframe tbody tr th {\n",
       "        vertical-align: top;\n",
       "    }\n",
       "\n",
       "    .dataframe thead th {\n",
       "        text-align: right;\n",
       "    }\n",
       "</style>\n",
       "<table border=\"1\" class=\"dataframe\">\n",
       "  <thead>\n",
       "    <tr style=\"text-align: right;\">\n",
       "      <th></th>\n",
       "      <th>Genes</th>\n",
       "      <th>Scores</th>\n",
       "    </tr>\n",
       "  </thead>\n",
       "  <tbody>\n",
       "    <tr>\n",
       "      <td>0</td>\n",
       "      <td>OSGEPL1</td>\n",
       "      <td>136.428571</td>\n",
       "    </tr>\n",
       "    <tr>\n",
       "      <td>1</td>\n",
       "      <td>ZNF83</td>\n",
       "      <td>252.857143</td>\n",
       "    </tr>\n",
       "    <tr>\n",
       "      <td>2</td>\n",
       "      <td>FEN1</td>\n",
       "      <td>51.000000</td>\n",
       "    </tr>\n",
       "    <tr>\n",
       "      <td>3</td>\n",
       "      <td>SOSTDC1</td>\n",
       "      <td>15.857143</td>\n",
       "    </tr>\n",
       "    <tr>\n",
       "      <td>4</td>\n",
       "      <td>CCAR1</td>\n",
       "      <td>94.571429</td>\n",
       "    </tr>\n",
       "    <tr>\n",
       "      <td>5</td>\n",
       "      <td>ORAI1</td>\n",
       "      <td>153.571429</td>\n",
       "    </tr>\n",
       "    <tr>\n",
       "      <td>6</td>\n",
       "      <td>DHRS4L2</td>\n",
       "      <td>23.428571</td>\n",
       "    </tr>\n",
       "    <tr>\n",
       "      <td>7</td>\n",
       "      <td>UTP4</td>\n",
       "      <td>58.428571</td>\n",
       "    </tr>\n",
       "    <tr>\n",
       "      <td>8</td>\n",
       "      <td>CAAP1</td>\n",
       "      <td>213.142857</td>\n",
       "    </tr>\n",
       "    <tr>\n",
       "      <td>9</td>\n",
       "      <td>SMIM27</td>\n",
       "      <td>77.000000</td>\n",
       "    </tr>\n",
       "  </tbody>\n",
       "</table>\n",
       "</div>"
      ],
      "text/plain": [
       "     Genes      Scores\n",
       "0  OSGEPL1  136.428571\n",
       "1    ZNF83  252.857143\n",
       "2     FEN1   51.000000\n",
       "3  SOSTDC1   15.857143\n",
       "4    CCAR1   94.571429\n",
       "5    ORAI1  153.571429\n",
       "6  DHRS4L2   23.428571\n",
       "7     UTP4   58.428571\n",
       "8    CAAP1  213.142857\n",
       "9   SMIM27   77.000000"
      ]
     },
     "execution_count": 22,
     "metadata": {},
     "output_type": "execute_result"
    }
   ],
   "source": [
    "sox17_ovc_fav_df = pd.DataFrame(data={\"Genes\":list(sox17_ovc_fav),\"Scores\":[sox17_ovc_fav_score[g] for g in sox17_ovc_fav]})\n",
    "sox17_ovc_fav_df[:10]"
   ]
  },
  {
   "cell_type": "code",
   "execution_count": 23,
   "metadata": {},
   "outputs": [],
   "source": [
    "sox17_ovc_fav_df.to_excel(\"./final_results/sox17_ovc_fav.xlsx\", header=True, index=False)"
   ]
  },
  {
   "cell_type": "markdown",
   "metadata": {},
   "source": [
    "#### Sox17 targets that are unfavorable in ovarian cancer"
   ]
  },
  {
   "cell_type": "code",
   "execution_count": 24,
   "metadata": {},
   "outputs": [
    {
     "data": {
      "text/html": [
       "<div>\n",
       "<style scoped>\n",
       "    .dataframe tbody tr th:only-of-type {\n",
       "        vertical-align: middle;\n",
       "    }\n",
       "\n",
       "    .dataframe tbody tr th {\n",
       "        vertical-align: top;\n",
       "    }\n",
       "\n",
       "    .dataframe thead th {\n",
       "        text-align: right;\n",
       "    }\n",
       "</style>\n",
       "<table border=\"1\" class=\"dataframe\">\n",
       "  <thead>\n",
       "    <tr style=\"text-align: right;\">\n",
       "      <th></th>\n",
       "      <th>Genes</th>\n",
       "      <th>Scores</th>\n",
       "    </tr>\n",
       "  </thead>\n",
       "  <tbody>\n",
       "    <tr>\n",
       "      <td>0</td>\n",
       "      <td>SLC9A1</td>\n",
       "      <td>191.000000</td>\n",
       "    </tr>\n",
       "    <tr>\n",
       "      <td>1</td>\n",
       "      <td>PC</td>\n",
       "      <td>56.285714</td>\n",
       "    </tr>\n",
       "    <tr>\n",
       "      <td>2</td>\n",
       "      <td>EHD2</td>\n",
       "      <td>40.142857</td>\n",
       "    </tr>\n",
       "    <tr>\n",
       "      <td>3</td>\n",
       "      <td>HDAC4</td>\n",
       "      <td>19.857143</td>\n",
       "    </tr>\n",
       "    <tr>\n",
       "      <td>4</td>\n",
       "      <td>TCF15</td>\n",
       "      <td>29.714286</td>\n",
       "    </tr>\n",
       "    <tr>\n",
       "      <td>5</td>\n",
       "      <td>TMEM181</td>\n",
       "      <td>23.571429</td>\n",
       "    </tr>\n",
       "    <tr>\n",
       "      <td>6</td>\n",
       "      <td>CAVIN1</td>\n",
       "      <td>114.857143</td>\n",
       "    </tr>\n",
       "    <tr>\n",
       "      <td>7</td>\n",
       "      <td>SLC12A9</td>\n",
       "      <td>174.428571</td>\n",
       "    </tr>\n",
       "    <tr>\n",
       "      <td>8</td>\n",
       "      <td>CLDN4</td>\n",
       "      <td>164.714286</td>\n",
       "    </tr>\n",
       "    <tr>\n",
       "      <td>9</td>\n",
       "      <td>CERCAM</td>\n",
       "      <td>15.714286</td>\n",
       "    </tr>\n",
       "  </tbody>\n",
       "</table>\n",
       "</div>"
      ],
      "text/plain": [
       "     Genes      Scores\n",
       "0   SLC9A1  191.000000\n",
       "1       PC   56.285714\n",
       "2     EHD2   40.142857\n",
       "3    HDAC4   19.857143\n",
       "4    TCF15   29.714286\n",
       "5  TMEM181   23.571429\n",
       "6   CAVIN1  114.857143\n",
       "7  SLC12A9  174.428571\n",
       "8    CLDN4  164.714286\n",
       "9   CERCAM   15.714286"
      ]
     },
     "execution_count": 24,
     "metadata": {},
     "output_type": "execute_result"
    }
   ],
   "source": [
    "sox17_ovc_unfav_df = pd.DataFrame(data={\"Genes\":list(sox17_ovc_unfav),\"Scores\":[sox17_ovc_unfav_score[g] for g in sox17_ovc_unfav]})\n",
    "sox17_ovc_unfav_df[:10]"
   ]
  },
  {
   "cell_type": "code",
   "execution_count": 25,
   "metadata": {},
   "outputs": [],
   "source": [
    "sox17_ovc_unfav_df.to_excel(\"./final_results/sox17_ovc_unfav.xlsx\", header=True, index=False)"
   ]
  }
 ],
 "metadata": {
  "kernelspec": {
   "display_name": "Python 3",
   "language": "python",
   "name": "python3"
  },
  "language_info": {
   "codemirror_mode": {
    "name": "ipython",
    "version": 3
   },
   "file_extension": ".py",
   "mimetype": "text/x-python",
   "name": "python",
   "nbconvert_exporter": "python",
   "pygments_lexer": "ipython3",
   "version": "3.7.4"
  }
 },
 "nbformat": 4,
 "nbformat_minor": 2
}

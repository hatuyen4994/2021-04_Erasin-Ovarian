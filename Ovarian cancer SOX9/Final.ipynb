{
 "cells": [
  {
   "cell_type": "code",
   "execution_count": 1,
   "metadata": {},
   "outputs": [],
   "source": [
    "import pandas as pd"
   ]
  },
  {
   "cell_type": "markdown",
   "metadata": {},
   "source": [
    "# ChIP Atlas Genes targets of SOX9 (hg38)"
   ]
  },
  {
   "cell_type": "markdown",
   "metadata": {},
   "source": [
    "The first data set is retrieved from ChIP Atlas. We went to \"Target genes\" function, in mouse genome hg38, searched in the +- 10k kb distance from the TSS of all genes to find gene targets of SOX9. \n",
    "\n",
    "Let's take a look at the dataset"
   ]
  },
  {
   "cell_type": "code",
   "execution_count": 2,
   "metadata": {},
   "outputs": [
    {
     "name": "stdout",
     "output_type": "stream",
     "text": [
      "There are 8342 genes retrieved from ChIP-Atlas \n"
     ]
    }
   ],
   "source": [
    "sox9 = pd.read_csv(\"./input/SOX9.10.tsv\", delimiter=\"\\t\")\n",
    "print(f\"There are {sox9.shape[0]} genes retrieved from ChIP-Atlas \")"
   ]
  },
  {
   "cell_type": "code",
   "execution_count": 3,
   "metadata": {
    "scrolled": true
   },
   "outputs": [
    {
     "data": {
      "text/html": [
       "<div>\n",
       "<style scoped>\n",
       "    .dataframe tbody tr th:only-of-type {\n",
       "        vertical-align: middle;\n",
       "    }\n",
       "\n",
       "    .dataframe tbody tr th {\n",
       "        vertical-align: top;\n",
       "    }\n",
       "\n",
       "    .dataframe thead th {\n",
       "        text-align: right;\n",
       "    }\n",
       "</style>\n",
       "<table border=\"1\" class=\"dataframe\">\n",
       "  <thead>\n",
       "    <tr style=\"text-align: right;\">\n",
       "      <th></th>\n",
       "      <th>Target_genes</th>\n",
       "      <th>SOX9|Average</th>\n",
       "      <th>SRX718108|hESC_derived_pancreatic_cells</th>\n",
       "      <th>SRX4065343|hESC_derived_retinal_cells</th>\n",
       "      <th>SRX4065344|hESC_derived_retinal_cells</th>\n",
       "      <th>SRX4065345|hESC_derived_retinal_cells</th>\n",
       "      <th>SRX4065346|hESC_derived_retinal_cells</th>\n",
       "      <th>SRX4065347|hESC_derived_retinal_cells</th>\n",
       "      <th>SRX4065348|hESC_derived_retinal_cells</th>\n",
       "      <th>SRX768290|HT-29</th>\n",
       "      <th>SRX359919|LoVo</th>\n",
       "      <th>SRX1510444|VCaP</th>\n",
       "      <th>STRING</th>\n",
       "    </tr>\n",
       "  </thead>\n",
       "  <tbody>\n",
       "    <tr>\n",
       "      <td>0</td>\n",
       "      <td>ARRDC4</td>\n",
       "      <td>398.7</td>\n",
       "      <td>0</td>\n",
       "      <td>245</td>\n",
       "      <td>233</td>\n",
       "      <td>119</td>\n",
       "      <td>221</td>\n",
       "      <td>290</td>\n",
       "      <td>188</td>\n",
       "      <td>1965</td>\n",
       "      <td>0</td>\n",
       "      <td>726</td>\n",
       "      <td>0</td>\n",
       "    </tr>\n",
       "    <tr>\n",
       "      <td>1</td>\n",
       "      <td>DUX4</td>\n",
       "      <td>374.9</td>\n",
       "      <td>378</td>\n",
       "      <td>325</td>\n",
       "      <td>423</td>\n",
       "      <td>218</td>\n",
       "      <td>314</td>\n",
       "      <td>419</td>\n",
       "      <td>376</td>\n",
       "      <td>473</td>\n",
       "      <td>249</td>\n",
       "      <td>574</td>\n",
       "      <td>0</td>\n",
       "    </tr>\n",
       "    <tr>\n",
       "      <td>2</td>\n",
       "      <td>MTRNR2L2</td>\n",
       "      <td>348.0</td>\n",
       "      <td>821</td>\n",
       "      <td>0</td>\n",
       "      <td>0</td>\n",
       "      <td>165</td>\n",
       "      <td>192</td>\n",
       "      <td>0</td>\n",
       "      <td>0</td>\n",
       "      <td>742</td>\n",
       "      <td>1123</td>\n",
       "      <td>437</td>\n",
       "      <td>0</td>\n",
       "    </tr>\n",
       "    <tr>\n",
       "      <td>3</td>\n",
       "      <td>MSH3</td>\n",
       "      <td>348.0</td>\n",
       "      <td>821</td>\n",
       "      <td>0</td>\n",
       "      <td>0</td>\n",
       "      <td>165</td>\n",
       "      <td>192</td>\n",
       "      <td>0</td>\n",
       "      <td>0</td>\n",
       "      <td>742</td>\n",
       "      <td>1123</td>\n",
       "      <td>437</td>\n",
       "      <td>0</td>\n",
       "    </tr>\n",
       "    <tr>\n",
       "      <td>4</td>\n",
       "      <td>DOLPP1</td>\n",
       "      <td>342.2</td>\n",
       "      <td>0</td>\n",
       "      <td>128</td>\n",
       "      <td>132</td>\n",
       "      <td>133</td>\n",
       "      <td>192</td>\n",
       "      <td>202</td>\n",
       "      <td>193</td>\n",
       "      <td>1777</td>\n",
       "      <td>0</td>\n",
       "      <td>665</td>\n",
       "      <td>0</td>\n",
       "    </tr>\n",
       "    <tr>\n",
       "      <td>5</td>\n",
       "      <td>MTRNR2L8</td>\n",
       "      <td>335.8</td>\n",
       "      <td>761</td>\n",
       "      <td>0</td>\n",
       "      <td>0</td>\n",
       "      <td>0</td>\n",
       "      <td>107</td>\n",
       "      <td>0</td>\n",
       "      <td>0</td>\n",
       "      <td>592</td>\n",
       "      <td>1457</td>\n",
       "      <td>441</td>\n",
       "      <td>0</td>\n",
       "    </tr>\n",
       "    <tr>\n",
       "      <td>6</td>\n",
       "      <td>KIF5C</td>\n",
       "      <td>301.2</td>\n",
       "      <td>847</td>\n",
       "      <td>0</td>\n",
       "      <td>0</td>\n",
       "      <td>0</td>\n",
       "      <td>0</td>\n",
       "      <td>0</td>\n",
       "      <td>0</td>\n",
       "      <td>779</td>\n",
       "      <td>591</td>\n",
       "      <td>795</td>\n",
       "      <td>0</td>\n",
       "    </tr>\n",
       "    <tr>\n",
       "      <td>7</td>\n",
       "      <td>ZBTB32</td>\n",
       "      <td>295.9</td>\n",
       "      <td>0</td>\n",
       "      <td>117</td>\n",
       "      <td>119</td>\n",
       "      <td>123</td>\n",
       "      <td>135</td>\n",
       "      <td>148</td>\n",
       "      <td>206</td>\n",
       "      <td>1780</td>\n",
       "      <td>0</td>\n",
       "      <td>331</td>\n",
       "      <td>0</td>\n",
       "    </tr>\n",
       "    <tr>\n",
       "      <td>8</td>\n",
       "      <td>PTPRN2</td>\n",
       "      <td>291.4</td>\n",
       "      <td>502</td>\n",
       "      <td>222</td>\n",
       "      <td>286</td>\n",
       "      <td>249</td>\n",
       "      <td>187</td>\n",
       "      <td>308</td>\n",
       "      <td>312</td>\n",
       "      <td>0</td>\n",
       "      <td>521</td>\n",
       "      <td>327</td>\n",
       "      <td>0</td>\n",
       "    </tr>\n",
       "    <tr>\n",
       "      <td>9</td>\n",
       "      <td>SLC25A41</td>\n",
       "      <td>286.0</td>\n",
       "      <td>0</td>\n",
       "      <td>200</td>\n",
       "      <td>202</td>\n",
       "      <td>100</td>\n",
       "      <td>122</td>\n",
       "      <td>174</td>\n",
       "      <td>176</td>\n",
       "      <td>1495</td>\n",
       "      <td>0</td>\n",
       "      <td>391</td>\n",
       "      <td>0</td>\n",
       "    </tr>\n",
       "  </tbody>\n",
       "</table>\n",
       "</div>"
      ],
      "text/plain": [
       "  Target_genes  SOX9|Average  SRX718108|hESC_derived_pancreatic_cells  \\\n",
       "0       ARRDC4         398.7                                        0   \n",
       "1         DUX4         374.9                                      378   \n",
       "2     MTRNR2L2         348.0                                      821   \n",
       "3         MSH3         348.0                                      821   \n",
       "4       DOLPP1         342.2                                        0   \n",
       "5     MTRNR2L8         335.8                                      761   \n",
       "6        KIF5C         301.2                                      847   \n",
       "7       ZBTB32         295.9                                        0   \n",
       "8       PTPRN2         291.4                                      502   \n",
       "9     SLC25A41         286.0                                        0   \n",
       "\n",
       "   SRX4065343|hESC_derived_retinal_cells  \\\n",
       "0                                    245   \n",
       "1                                    325   \n",
       "2                                      0   \n",
       "3                                      0   \n",
       "4                                    128   \n",
       "5                                      0   \n",
       "6                                      0   \n",
       "7                                    117   \n",
       "8                                    222   \n",
       "9                                    200   \n",
       "\n",
       "   SRX4065344|hESC_derived_retinal_cells  \\\n",
       "0                                    233   \n",
       "1                                    423   \n",
       "2                                      0   \n",
       "3                                      0   \n",
       "4                                    132   \n",
       "5                                      0   \n",
       "6                                      0   \n",
       "7                                    119   \n",
       "8                                    286   \n",
       "9                                    202   \n",
       "\n",
       "   SRX4065345|hESC_derived_retinal_cells  \\\n",
       "0                                    119   \n",
       "1                                    218   \n",
       "2                                    165   \n",
       "3                                    165   \n",
       "4                                    133   \n",
       "5                                      0   \n",
       "6                                      0   \n",
       "7                                    123   \n",
       "8                                    249   \n",
       "9                                    100   \n",
       "\n",
       "   SRX4065346|hESC_derived_retinal_cells  \\\n",
       "0                                    221   \n",
       "1                                    314   \n",
       "2                                    192   \n",
       "3                                    192   \n",
       "4                                    192   \n",
       "5                                    107   \n",
       "6                                      0   \n",
       "7                                    135   \n",
       "8                                    187   \n",
       "9                                    122   \n",
       "\n",
       "   SRX4065347|hESC_derived_retinal_cells  \\\n",
       "0                                    290   \n",
       "1                                    419   \n",
       "2                                      0   \n",
       "3                                      0   \n",
       "4                                    202   \n",
       "5                                      0   \n",
       "6                                      0   \n",
       "7                                    148   \n",
       "8                                    308   \n",
       "9                                    174   \n",
       "\n",
       "   SRX4065348|hESC_derived_retinal_cells  SRX768290|HT-29  SRX359919|LoVo  \\\n",
       "0                                    188             1965               0   \n",
       "1                                    376              473             249   \n",
       "2                                      0              742            1123   \n",
       "3                                      0              742            1123   \n",
       "4                                    193             1777               0   \n",
       "5                                      0              592            1457   \n",
       "6                                      0              779             591   \n",
       "7                                    206             1780               0   \n",
       "8                                    312                0             521   \n",
       "9                                    176             1495               0   \n",
       "\n",
       "   SRX1510444|VCaP  STRING  \n",
       "0              726       0  \n",
       "1              574       0  \n",
       "2              437       0  \n",
       "3              437       0  \n",
       "4              665       0  \n",
       "5              441       0  \n",
       "6              795       0  \n",
       "7              331       0  \n",
       "8              327       0  \n",
       "9              391       0  "
      ]
     },
     "execution_count": 3,
     "metadata": {},
     "output_type": "execute_result"
    }
   ],
   "source": [
    "sox9[:10]"
   ]
  },
  {
   "cell_type": "markdown",
   "metadata": {},
   "source": [
    "We only wanted the first and second columns (which is the score).  "
   ]
  },
  {
   "cell_type": "code",
   "execution_count": 4,
   "metadata": {},
   "outputs": [],
   "source": [
    "sox9.rename(columns={\"SOX9|Average\":\"Score\"}, inplace=True)"
   ]
  },
  {
   "cell_type": "code",
   "execution_count": 5,
   "metadata": {},
   "outputs": [
    {
     "data": {
      "text/html": [
       "<div>\n",
       "<style scoped>\n",
       "    .dataframe tbody tr th:only-of-type {\n",
       "        vertical-align: middle;\n",
       "    }\n",
       "\n",
       "    .dataframe tbody tr th {\n",
       "        vertical-align: top;\n",
       "    }\n",
       "\n",
       "    .dataframe thead th {\n",
       "        text-align: right;\n",
       "    }\n",
       "</style>\n",
       "<table border=\"1\" class=\"dataframe\">\n",
       "  <thead>\n",
       "    <tr style=\"text-align: right;\">\n",
       "      <th></th>\n",
       "      <th>Target_genes</th>\n",
       "      <th>Score</th>\n",
       "    </tr>\n",
       "  </thead>\n",
       "  <tbody>\n",
       "    <tr>\n",
       "      <td>0</td>\n",
       "      <td>ARRDC4</td>\n",
       "      <td>398.7</td>\n",
       "    </tr>\n",
       "    <tr>\n",
       "      <td>1</td>\n",
       "      <td>DUX4</td>\n",
       "      <td>374.9</td>\n",
       "    </tr>\n",
       "    <tr>\n",
       "      <td>2</td>\n",
       "      <td>MTRNR2L2</td>\n",
       "      <td>348.0</td>\n",
       "    </tr>\n",
       "    <tr>\n",
       "      <td>3</td>\n",
       "      <td>MSH3</td>\n",
       "      <td>348.0</td>\n",
       "    </tr>\n",
       "    <tr>\n",
       "      <td>4</td>\n",
       "      <td>DOLPP1</td>\n",
       "      <td>342.2</td>\n",
       "    </tr>\n",
       "    <tr>\n",
       "      <td>5</td>\n",
       "      <td>MTRNR2L8</td>\n",
       "      <td>335.8</td>\n",
       "    </tr>\n",
       "    <tr>\n",
       "      <td>6</td>\n",
       "      <td>KIF5C</td>\n",
       "      <td>301.2</td>\n",
       "    </tr>\n",
       "    <tr>\n",
       "      <td>7</td>\n",
       "      <td>ZBTB32</td>\n",
       "      <td>295.9</td>\n",
       "    </tr>\n",
       "    <tr>\n",
       "      <td>8</td>\n",
       "      <td>PTPRN2</td>\n",
       "      <td>291.4</td>\n",
       "    </tr>\n",
       "    <tr>\n",
       "      <td>9</td>\n",
       "      <td>SLC25A41</td>\n",
       "      <td>286.0</td>\n",
       "    </tr>\n",
       "  </tbody>\n",
       "</table>\n",
       "</div>"
      ],
      "text/plain": [
       "  Target_genes  Score\n",
       "0       ARRDC4  398.7\n",
       "1         DUX4  374.9\n",
       "2     MTRNR2L2  348.0\n",
       "3         MSH3  348.0\n",
       "4       DOLPP1  342.2\n",
       "5     MTRNR2L8  335.8\n",
       "6        KIF5C  301.2\n",
       "7       ZBTB32  295.9\n",
       "8       PTPRN2  291.4\n",
       "9     SLC25A41  286.0"
      ]
     },
     "execution_count": 5,
     "metadata": {},
     "output_type": "execute_result"
    }
   ],
   "source": [
    "sox9[:][[\"Target_genes\",\"Score\"]].to_csv(\"./input/sox9_targets.csv\", header=True, index=False)\n",
    "sox9_targets = pd.read_csv(\"./input/sox9_targets.csv\")\n",
    "sox9_targets[:10]"
   ]
  },
  {
   "cell_type": "markdown",
   "metadata": {},
   "source": [
    "Let's put the gene names in upper case for easier search down the way"
   ]
  },
  {
   "cell_type": "code",
   "execution_count": 6,
   "metadata": {
    "scrolled": true
   },
   "outputs": [
    {
     "data": {
      "text/html": [
       "<div>\n",
       "<style scoped>\n",
       "    .dataframe tbody tr th:only-of-type {\n",
       "        vertical-align: middle;\n",
       "    }\n",
       "\n",
       "    .dataframe tbody tr th {\n",
       "        vertical-align: top;\n",
       "    }\n",
       "\n",
       "    .dataframe thead th {\n",
       "        text-align: right;\n",
       "    }\n",
       "</style>\n",
       "<table border=\"1\" class=\"dataframe\">\n",
       "  <thead>\n",
       "    <tr style=\"text-align: right;\">\n",
       "      <th></th>\n",
       "      <th>Target_genes</th>\n",
       "      <th>Score</th>\n",
       "    </tr>\n",
       "  </thead>\n",
       "  <tbody>\n",
       "    <tr>\n",
       "      <td>0</td>\n",
       "      <td>ARRDC4</td>\n",
       "      <td>398.7</td>\n",
       "    </tr>\n",
       "    <tr>\n",
       "      <td>1</td>\n",
       "      <td>DUX4</td>\n",
       "      <td>374.9</td>\n",
       "    </tr>\n",
       "    <tr>\n",
       "      <td>2</td>\n",
       "      <td>MTRNR2L2</td>\n",
       "      <td>348.0</td>\n",
       "    </tr>\n",
       "    <tr>\n",
       "      <td>3</td>\n",
       "      <td>MSH3</td>\n",
       "      <td>348.0</td>\n",
       "    </tr>\n",
       "    <tr>\n",
       "      <td>4</td>\n",
       "      <td>DOLPP1</td>\n",
       "      <td>342.2</td>\n",
       "    </tr>\n",
       "    <tr>\n",
       "      <td>5</td>\n",
       "      <td>MTRNR2L8</td>\n",
       "      <td>335.8</td>\n",
       "    </tr>\n",
       "    <tr>\n",
       "      <td>6</td>\n",
       "      <td>KIF5C</td>\n",
       "      <td>301.2</td>\n",
       "    </tr>\n",
       "    <tr>\n",
       "      <td>7</td>\n",
       "      <td>ZBTB32</td>\n",
       "      <td>295.9</td>\n",
       "    </tr>\n",
       "    <tr>\n",
       "      <td>8</td>\n",
       "      <td>PTPRN2</td>\n",
       "      <td>291.4</td>\n",
       "    </tr>\n",
       "    <tr>\n",
       "      <td>9</td>\n",
       "      <td>SLC25A41</td>\n",
       "      <td>286.0</td>\n",
       "    </tr>\n",
       "  </tbody>\n",
       "</table>\n",
       "</div>"
      ],
      "text/plain": [
       "  Target_genes  Score\n",
       "0       ARRDC4  398.7\n",
       "1         DUX4  374.9\n",
       "2     MTRNR2L2  348.0\n",
       "3         MSH3  348.0\n",
       "4       DOLPP1  342.2\n",
       "5     MTRNR2L8  335.8\n",
       "6        KIF5C  301.2\n",
       "7       ZBTB32  295.9\n",
       "8       PTPRN2  291.4\n",
       "9     SLC25A41  286.0"
      ]
     },
     "execution_count": 6,
     "metadata": {},
     "output_type": "execute_result"
    }
   ],
   "source": [
    "sox9_targets[:][\"Target_genes\"] = sox9_targets[:][\"Target_genes\"].apply(lambda x:x.upper())\n",
    "sox9_targets[:10]"
   ]
  },
  {
   "cell_type": "markdown",
   "metadata": {},
   "source": [
    "# HPA - Genes expressed in favorable and unfavorable ovarian cancer prognostics "
   ]
  },
  {
   "cell_type": "markdown",
   "metadata": {},
   "source": [
    "Here, we want a list of genes that are expressed in human ovarian cancer from Human Protein Atlas data base (HPA). We do did by query the Human Protein Atlas database with \"prognostic:Ovarian cancer;Unfavorable\" or \"prognostic:Ovarian cancer;Favorable\".\n",
    "\n",
    "This will give us 2 list of genes that are expressed in human ovarian cancer with evidence from IHC with favorable and unfavorable prognostics"
   ]
  },
  {
   "cell_type": "markdown",
   "metadata": {},
   "source": [
    "#### Favorable prognostic"
   ]
  },
  {
   "cell_type": "code",
   "execution_count": 7,
   "metadata": {
    "scrolled": false
   },
   "outputs": [
    {
     "name": "stdout",
     "output_type": "stream",
     "text": [
      "There are 357 genes expressed in favorable prognostic of ovarian caner\n"
     ]
    }
   ],
   "source": [
    "ovc_fav = pd.read_csv(\"./input/prognostic_Ovarian_favorable.tsv\",delimiter=\"\\t\", usecols=[0,1,2,3])\n",
    "print(f\"There are {ovc_fav.shape[0]} genes expressed in favorable prognostic of ovarian caner\")"
   ]
  },
  {
   "cell_type": "markdown",
   "metadata": {},
   "source": [
    "Make sure to put all the gene names in upper case.Let's take a look at the data set"
   ]
  },
  {
   "cell_type": "code",
   "execution_count": 8,
   "metadata": {
    "scrolled": false
   },
   "outputs": [
    {
     "data": {
      "text/html": [
       "<div>\n",
       "<style scoped>\n",
       "    .dataframe tbody tr th:only-of-type {\n",
       "        vertical-align: middle;\n",
       "    }\n",
       "\n",
       "    .dataframe tbody tr th {\n",
       "        vertical-align: top;\n",
       "    }\n",
       "\n",
       "    .dataframe thead th {\n",
       "        text-align: right;\n",
       "    }\n",
       "</style>\n",
       "<table border=\"1\" class=\"dataframe\">\n",
       "  <thead>\n",
       "    <tr style=\"text-align: right;\">\n",
       "      <th></th>\n",
       "      <th>Gene</th>\n",
       "      <th>Gene synonym</th>\n",
       "      <th>Ensembl</th>\n",
       "      <th>Gene description</th>\n",
       "    </tr>\n",
       "  </thead>\n",
       "  <tbody>\n",
       "    <tr>\n",
       "      <td>0</td>\n",
       "      <td>AADAC</td>\n",
       "      <td>CES5A1, DAC</td>\n",
       "      <td>ENSG00000114771</td>\n",
       "      <td>Arylacetamide deacetylase</td>\n",
       "    </tr>\n",
       "    <tr>\n",
       "      <td>1</td>\n",
       "      <td>ABT1</td>\n",
       "      <td>Esf2</td>\n",
       "      <td>ENSG00000146109</td>\n",
       "      <td>Activator of basal transcription 1</td>\n",
       "    </tr>\n",
       "    <tr>\n",
       "      <td>2</td>\n",
       "      <td>ACOT13</td>\n",
       "      <td>HT012, THEM2</td>\n",
       "      <td>ENSG00000112304</td>\n",
       "      <td>Acyl-CoA thioesterase 13</td>\n",
       "    </tr>\n",
       "    <tr>\n",
       "      <td>3</td>\n",
       "      <td>ACSM3</td>\n",
       "      <td>SA, SAH</td>\n",
       "      <td>ENSG00000005187</td>\n",
       "      <td>Acyl-CoA synthetase medium chain family member 3</td>\n",
       "    </tr>\n",
       "    <tr>\n",
       "      <td>4</td>\n",
       "      <td>ADA2</td>\n",
       "      <td>ADGF, CECR1, IDGFL</td>\n",
       "      <td>ENSG00000093072</td>\n",
       "      <td>Adenosine deaminase 2</td>\n",
       "    </tr>\n",
       "    <tr>\n",
       "      <td>5</td>\n",
       "      <td>ADIPOR1</td>\n",
       "      <td>ACDCR1, PAQR1</td>\n",
       "      <td>ENSG00000159346</td>\n",
       "      <td>Adiponectin receptor 1</td>\n",
       "    </tr>\n",
       "    <tr>\n",
       "      <td>6</td>\n",
       "      <td>ADRA1B</td>\n",
       "      <td>NaN</td>\n",
       "      <td>ENSG00000170214</td>\n",
       "      <td>Adrenoceptor alpha 1B</td>\n",
       "    </tr>\n",
       "    <tr>\n",
       "      <td>7</td>\n",
       "      <td>AKT1</td>\n",
       "      <td>AKT, PKB, PRKBA, RAC</td>\n",
       "      <td>ENSG00000142208</td>\n",
       "      <td>AKT serine/threonine kinase 1</td>\n",
       "    </tr>\n",
       "    <tr>\n",
       "      <td>8</td>\n",
       "      <td>ALDH5A1</td>\n",
       "      <td>SSADH, SSDH</td>\n",
       "      <td>ENSG00000112294</td>\n",
       "      <td>Aldehyde dehydrogenase 5 family member A1</td>\n",
       "    </tr>\n",
       "    <tr>\n",
       "      <td>9</td>\n",
       "      <td>ALG1L2</td>\n",
       "      <td>NaN</td>\n",
       "      <td>ENSG00000251287</td>\n",
       "      <td>ALG1, chitobiosyldiphosphodolichol beta-mannos...</td>\n",
       "    </tr>\n",
       "  </tbody>\n",
       "</table>\n",
       "</div>"
      ],
      "text/plain": [
       "      Gene          Gene synonym          Ensembl  \\\n",
       "0    AADAC           CES5A1, DAC  ENSG00000114771   \n",
       "1     ABT1                  Esf2  ENSG00000146109   \n",
       "2   ACOT13          HT012, THEM2  ENSG00000112304   \n",
       "3    ACSM3               SA, SAH  ENSG00000005187   \n",
       "4     ADA2    ADGF, CECR1, IDGFL  ENSG00000093072   \n",
       "5  ADIPOR1         ACDCR1, PAQR1  ENSG00000159346   \n",
       "6   ADRA1B                   NaN  ENSG00000170214   \n",
       "7     AKT1  AKT, PKB, PRKBA, RAC  ENSG00000142208   \n",
       "8  ALDH5A1           SSADH, SSDH  ENSG00000112294   \n",
       "9   ALG1L2                   NaN  ENSG00000251287   \n",
       "\n",
       "                                    Gene description  \n",
       "0                          Arylacetamide deacetylase  \n",
       "1                 Activator of basal transcription 1  \n",
       "2                           Acyl-CoA thioesterase 13  \n",
       "3   Acyl-CoA synthetase medium chain family member 3  \n",
       "4                              Adenosine deaminase 2  \n",
       "5                             Adiponectin receptor 1  \n",
       "6                              Adrenoceptor alpha 1B  \n",
       "7                      AKT serine/threonine kinase 1  \n",
       "8          Aldehyde dehydrogenase 5 family member A1  \n",
       "9  ALG1, chitobiosyldiphosphodolichol beta-mannos...  "
      ]
     },
     "execution_count": 8,
     "metadata": {},
     "output_type": "execute_result"
    }
   ],
   "source": [
    "ovc_fav[:][\"Gene\"] = ovc_fav[:][\"Gene\"].apply(lambda x:x.upper())\n",
    "ovc_fav[:10]"
   ]
  },
  {
   "cell_type": "markdown",
   "metadata": {},
   "source": [
    "#### Unfavorable prognostic"
   ]
  },
  {
   "cell_type": "code",
   "execution_count": 9,
   "metadata": {
    "scrolled": false
   },
   "outputs": [
    {
     "name": "stdout",
     "output_type": "stream",
     "text": [
      "There are 152 genes expressed in unfavorable prognostic of ovarian caner\n"
     ]
    }
   ],
   "source": [
    "ovc_unfav = pd.read_csv(\"./input/prognostic_Ovarian_unfavorable.tsv\",delimiter=\"\\t\", usecols=[0,1,2,3])\n",
    "print(f\"There are {ovc_unfav.shape[0]} genes expressed in unfavorable prognostic of ovarian caner\")"
   ]
  },
  {
   "cell_type": "markdown",
   "metadata": {},
   "source": [
    "Make sure to put all the gene names in upper case.Let's take a look at the data set"
   ]
  },
  {
   "cell_type": "code",
   "execution_count": 10,
   "metadata": {
    "scrolled": false
   },
   "outputs": [
    {
     "data": {
      "text/html": [
       "<div>\n",
       "<style scoped>\n",
       "    .dataframe tbody tr th:only-of-type {\n",
       "        vertical-align: middle;\n",
       "    }\n",
       "\n",
       "    .dataframe tbody tr th {\n",
       "        vertical-align: top;\n",
       "    }\n",
       "\n",
       "    .dataframe thead th {\n",
       "        text-align: right;\n",
       "    }\n",
       "</style>\n",
       "<table border=\"1\" class=\"dataframe\">\n",
       "  <thead>\n",
       "    <tr style=\"text-align: right;\">\n",
       "      <th></th>\n",
       "      <th>Gene</th>\n",
       "      <th>Gene synonym</th>\n",
       "      <th>Ensembl</th>\n",
       "      <th>Gene description</th>\n",
       "    </tr>\n",
       "  </thead>\n",
       "  <tbody>\n",
       "    <tr>\n",
       "      <td>0</td>\n",
       "      <td>AAK1</td>\n",
       "      <td>DKFZp686K16132, KIAA1048</td>\n",
       "      <td>ENSG00000115977</td>\n",
       "      <td>AP2 associated kinase 1</td>\n",
       "    </tr>\n",
       "    <tr>\n",
       "      <td>1</td>\n",
       "      <td>AGAP1</td>\n",
       "      <td>CENTG2, GGAP1, KIAA1099</td>\n",
       "      <td>ENSG00000157985</td>\n",
       "      <td>ArfGAP with GTPase domain, ankyrin repeat and ...</td>\n",
       "    </tr>\n",
       "    <tr>\n",
       "      <td>2</td>\n",
       "      <td>AGFG1</td>\n",
       "      <td>HRB, RAB, RIP</td>\n",
       "      <td>ENSG00000173744</td>\n",
       "      <td>ArfGAP with FG repeats 1</td>\n",
       "    </tr>\n",
       "    <tr>\n",
       "      <td>3</td>\n",
       "      <td>AHDC1</td>\n",
       "      <td>DJ159A19.3, RP1-159A19.1</td>\n",
       "      <td>ENSG00000126705</td>\n",
       "      <td>AT-hook DNA binding motif containing 1</td>\n",
       "    </tr>\n",
       "    <tr>\n",
       "      <td>4</td>\n",
       "      <td>AL136454.1</td>\n",
       "      <td>NaN</td>\n",
       "      <td>ENSG00000231767</td>\n",
       "      <td>NaN</td>\n",
       "    </tr>\n",
       "    <tr>\n",
       "      <td>5</td>\n",
       "      <td>ALOX5AP</td>\n",
       "      <td>FLAP</td>\n",
       "      <td>ENSG00000132965</td>\n",
       "      <td>Arachidonate 5-lipoxygenase activating protein</td>\n",
       "    </tr>\n",
       "    <tr>\n",
       "      <td>6</td>\n",
       "      <td>ANKRD13A</td>\n",
       "      <td>ANKRD13, NY-REN-25</td>\n",
       "      <td>ENSG00000076513</td>\n",
       "      <td>Ankyrin repeat domain 13A</td>\n",
       "    </tr>\n",
       "    <tr>\n",
       "      <td>7</td>\n",
       "      <td>ANXA4</td>\n",
       "      <td>ANX4</td>\n",
       "      <td>ENSG00000196975</td>\n",
       "      <td>Annexin A4</td>\n",
       "    </tr>\n",
       "    <tr>\n",
       "      <td>8</td>\n",
       "      <td>AP2A1</td>\n",
       "      <td>ADTAA, CLAPA1</td>\n",
       "      <td>ENSG00000196961</td>\n",
       "      <td>Adaptor related protein complex 2 alpha 1 subunit</td>\n",
       "    </tr>\n",
       "    <tr>\n",
       "      <td>9</td>\n",
       "      <td>ARID1B</td>\n",
       "      <td>6A3-5, BAF250b, DAN15, ELD/OSA1, KIAA1235, p250R</td>\n",
       "      <td>ENSG00000049618</td>\n",
       "      <td>AT-rich interaction domain 1B</td>\n",
       "    </tr>\n",
       "  </tbody>\n",
       "</table>\n",
       "</div>"
      ],
      "text/plain": [
       "         Gene                                      Gene synonym  \\\n",
       "0        AAK1                          DKFZp686K16132, KIAA1048   \n",
       "1       AGAP1                           CENTG2, GGAP1, KIAA1099   \n",
       "2       AGFG1                                     HRB, RAB, RIP   \n",
       "3       AHDC1                          DJ159A19.3, RP1-159A19.1   \n",
       "4  AL136454.1                                               NaN   \n",
       "5     ALOX5AP                                              FLAP   \n",
       "6    ANKRD13A                                ANKRD13, NY-REN-25   \n",
       "7       ANXA4                                              ANX4   \n",
       "8       AP2A1                                     ADTAA, CLAPA1   \n",
       "9      ARID1B  6A3-5, BAF250b, DAN15, ELD/OSA1, KIAA1235, p250R   \n",
       "\n",
       "           Ensembl                                   Gene description  \n",
       "0  ENSG00000115977                            AP2 associated kinase 1  \n",
       "1  ENSG00000157985  ArfGAP with GTPase domain, ankyrin repeat and ...  \n",
       "2  ENSG00000173744                           ArfGAP with FG repeats 1  \n",
       "3  ENSG00000126705             AT-hook DNA binding motif containing 1  \n",
       "4  ENSG00000231767                                                NaN  \n",
       "5  ENSG00000132965     Arachidonate 5-lipoxygenase activating protein  \n",
       "6  ENSG00000076513                          Ankyrin repeat domain 13A  \n",
       "7  ENSG00000196975                                         Annexin A4  \n",
       "8  ENSG00000196961  Adaptor related protein complex 2 alpha 1 subunit  \n",
       "9  ENSG00000049618                      AT-rich interaction domain 1B  "
      ]
     },
     "execution_count": 10,
     "metadata": {},
     "output_type": "execute_result"
    }
   ],
   "source": [
    "ovc_unfav[:][\"Gene\"] = ovc_unfav[:][\"Gene\"].apply(lambda x:x.upper())\n",
    "ovc_unfav[:10]"
   ]
  },
  {
   "cell_type": "markdown",
   "metadata": {},
   "source": [
    "Lucky for us, the data set from hpa also contain gene synonym. This will help us in the next step."
   ]
  },
  {
   "cell_type": "markdown",
   "metadata": {},
   "source": [
    "# Common genes"
   ]
  },
  {
   "cell_type": "markdown",
   "metadata": {},
   "source": [
    "Our final goal is to find genes that are the targets of SOX9 that are expressed in ovarian cancer in either favorable or unfavorable prognostic. \n",
    "\n",
    "One gene can have different names. In order to make sure that we don't miss any common genes just because they are synonyms in datasets, we constructed a synonym reference, taking advantage of the gene synonym from HPA data set.\n",
    "\n",
    "We also try to include in the score obtain from the Stat3 data to evaluate the likelihood of a Stat3 target"
   ]
  },
  {
   "cell_type": "markdown",
   "metadata": {},
   "source": [
    "#### Constructing the HPA synonym reference"
   ]
  },
  {
   "cell_type": "code",
   "execution_count": 11,
   "metadata": {},
   "outputs": [],
   "source": [
    "genes_hpa_fav = list(ovc_fav.Gene)\n",
    "#original to synonyms reference\n",
    "genes_synonyms_hpa = {}\n",
    "\n",
    "#synonyms to original reference\n",
    "synonyms_genes_hpa = {}\n",
    "\n",
    "for gene,syns in zip(genes_hpa_fav,ovc_fav[\"Gene synonym\"]):\n",
    "    genes_synonyms_hpa[gene] = [syns]\n",
    "    if type(syns) == float:\n",
    "        continue\n",
    "    else:\n",
    "        for s in syns.split(\", \"):\n",
    "            synonyms_genes_hpa[s.upper()] = gene            "
   ]
  },
  {
   "cell_type": "markdown",
   "metadata": {},
   "source": [
    "#### Favorable_OVC vs HPA"
   ]
  },
  {
   "cell_type": "code",
   "execution_count": 12,
   "metadata": {},
   "outputs": [],
   "source": [
    "sox9_targets_list = list(sox9_targets.Target_genes)\n",
    "sox9_scores_list = list(sox9_targets.Score)"
   ]
  },
  {
   "cell_type": "code",
   "execution_count": 13,
   "metadata": {},
   "outputs": [],
   "source": [
    "sox9_ovc_fav = []\n",
    "sox9_ovc_fav_score = {}\n",
    "for g,s in zip(sox9_targets_list,sox9_scores_list):\n",
    "    if g in genes_synonyms_hpa:\n",
    "        sox9_ovc_fav.append(g)\n",
    "        sox9_ovc_fav_score[g] = s\n",
    "    if g in synonyms_genes_hpa:\n",
    "        sox9_ovc_fav.append(synonyms_genes_hpa[g])\n",
    "        sox9_ovc_fav_score[synonyms_genes_hpa[g]] = s"
   ]
  },
  {
   "cell_type": "code",
   "execution_count": 14,
   "metadata": {
    "scrolled": true
   },
   "outputs": [
    {
     "name": "stdout",
     "output_type": "stream",
     "text": [
      "we have 221 hit\n"
     ]
    }
   ],
   "source": [
    "print(f\"we have {len(sox9_ovc_fav)} hit\")"
   ]
  },
  {
   "cell_type": "markdown",
   "metadata": {},
   "source": [
    "Let's try to remove any duplicates"
   ]
  },
  {
   "cell_type": "code",
   "execution_count": 15,
   "metadata": {
    "scrolled": true
   },
   "outputs": [
    {
     "name": "stdout",
     "output_type": "stream",
     "text": [
      "After duplicates elimination, we have 215 hit\n"
     ]
    }
   ],
   "source": [
    "sox9_ovc_fav = set(sox9_ovc_fav)\n",
    "print(f\"After duplicates elimination, we have {len(sox9_ovc_fav)} hit\")"
   ]
  },
  {
   "cell_type": "code",
   "execution_count": 16,
   "metadata": {
    "scrolled": true
   },
   "outputs": [
    {
     "name": "stdout",
     "output_type": "stream",
     "text": [
      "{'UBE2L3', 'CCDC34', 'HMGB3', 'CWC15', 'C18ORF21', 'JTB', 'LIPT2', 'C17ORF75', 'QRICH1', 'ZNF354A', 'NFX1', 'IGFLR1', 'DNAJA1', 'LRIF1', 'LANCL2', 'MRPL55', 'SELENOH', 'ABT1', 'JPT1', 'NLRC5', 'BOLA1', 'WLS', 'TSEN15', 'PBX2', 'LSM4', 'CALR', 'GPT2', 'HIBCH', 'C6ORF62', 'RNF5', 'SMU1', 'SEC22B', 'EEF1E1', 'PSMA2', 'C2ORF15', 'CAMTA1', 'BPHL', 'DCUN1D5', 'CENPL', 'ZNF391', 'CREB3', 'TIMM23', 'GUCD1', 'GNAS', 'ARHGEF39', 'TPGS2', 'LMO4', 'MRPS15', 'CHRAC1', 'RNASEH2A', 'MRPS11', 'MRS2', 'HSP90AB1', 'TAP1', 'EPCAM', 'PSMA6', 'ZNF43', 'SNRPD1', 'ODR4', 'ZNF641', 'CNOT4', 'MAN1A2', 'SELENOS', 'GALNT17', 'SKP2', 'ATP5IF1', 'MAGI3', 'PMVK', 'VPS29', 'PLAA', 'PACSIN3', 'METTL3', 'PRSS16', 'RALBP1', 'TPM3', 'SERPINB6', 'ZNF76', 'THOC1', 'LRTOMT', 'PARP9', 'GMNN', 'OSGEPL1', 'COA4', 'MRPL2', 'PTPN2', 'ORMDL1', 'ZNF165', 'LAMTOR5', 'TAF11', 'MAGOHB', 'CAAP1', 'TFAM', 'NDUFS5', 'AQP11', 'DGLUCY', 'GPR27', 'TMEM14B', 'ZCRB1', 'MCUR1', 'TAF13', 'GGT1', 'UBE2J1', 'GLRX5', 'TMEM258', 'PAICS', 'COMMD9', 'ORC6', 'KYAT3', 'STAT1', 'SYNCRIP', 'LYPD6', 'ELAVL1', 'HNRNPAB', 'UBE2T', 'USP14', 'UXS1', 'SRSF3', 'RAP2B', 'FKBPL', 'NUP35', 'NARS2', 'CACYBP', 'HNRNPC', 'ZSCAN16', 'TMEM53', 'BRIX1', 'RABIF', 'LRRC28', 'PPIL3', 'EIF5B', 'RBX1', 'HEXIM2', 'E2F3', 'TCAF1', 'SMIM10L1', 'PSMG2', 'DNAJC19', 'UBR2', 'LYAR', 'PRR3', 'ARTN', 'PAFAH1B2', 'ATP5MPL', 'ERGIC2', 'FMC1', 'UBD', 'ANAPC15', 'NUCB2', 'HINT2', 'SNRPE', 'GNL2', 'CASP2', 'ZNF101', 'POMZP3', 'MEA1', 'PSMB5', 'MRPL3', 'NOL7', 'SCNM1', 'TRIP13', 'TDP2', 'STMP1', 'HSBP1', 'EXOSC4', 'CMBL', 'HLA-A', 'GPR37', 'SSBP1', 'FEN1', 'CHD8', 'EIF4E3', 'PPIL1', 'ZNF714', 'HIRA', 'ISG20', 'SLC7A11', 'SEM1', 'TRA2B', 'FAM89B', 'PSMD12', 'SLC25A10', 'C1ORF35', 'ADRA1B', 'SUPT3H', 'EMC9', 'UTP4', 'DPM3', 'TOMM5', 'CENPQ', 'CCDC159', 'HOMEZ', 'TERF2IP', 'HDGF', 'MAP3K13', 'PLPP5', 'TRAPPC2', 'PFDN6', 'PCBP2', 'RPL39L', 'MPHOSPH6', 'UBAP2', 'IFRD1', 'ZNF561', 'ACOT13', 'LAMP3', 'TSTA3', 'PPM1G', 'CETN2', 'ZNF184', 'TIMM9', 'EIF3G', 'CIR1', 'MED19', 'FAM177A1', 'BCAS2'}\n"
     ]
    }
   ],
   "source": [
    "print(sox9_ovc_fav)"
   ]
  },
  {
   "cell_type": "markdown",
   "metadata": {},
   "source": [
    "#### Unfavorable_OVC vs HPA"
   ]
  },
  {
   "cell_type": "code",
   "execution_count": 17,
   "metadata": {},
   "outputs": [],
   "source": [
    "genes_hpa_unfav = list(ovc_unfav.Gene)\n",
    "#original to synonyms reference\n",
    "genes_synonyms_hpa = {}\n",
    "\n",
    "#synonyms to original reference\n",
    "synonyms_genes_hpa = {}\n",
    "\n",
    "for gene,syns in zip(genes_hpa_unfav,ovc_unfav[\"Gene synonym\"]):\n",
    "    genes_synonyms_hpa[gene] = [syns]\n",
    "    if type(syns) == float:\n",
    "        continue\n",
    "    else:\n",
    "        for s in syns.split(\", \"):\n",
    "            synonyms_genes_hpa[s.upper()] = gene            "
   ]
  },
  {
   "cell_type": "code",
   "execution_count": 18,
   "metadata": {},
   "outputs": [],
   "source": [
    "sox9_ovc_unfav = []\n",
    "sox9_ovc_unfav_score = {}\n",
    "for g,s in zip(sox9_targets_list,sox9_scores_list):\n",
    "    if g in genes_synonyms_hpa:\n",
    "        sox9_ovc_unfav.append(g)\n",
    "        sox9_ovc_unfav_score[g] = s\n",
    "    if g in synonyms_genes_hpa:\n",
    "        sox9_ovc_unfav.append(synonyms_genes_hpa[g])\n",
    "        sox9_ovc_unfav_score[synonyms_genes_hpa[g]] = s"
   ]
  },
  {
   "cell_type": "code",
   "execution_count": 19,
   "metadata": {},
   "outputs": [
    {
     "name": "stdout",
     "output_type": "stream",
     "text": [
      "we have 75 hit\n"
     ]
    }
   ],
   "source": [
    "print(f\"we have {len(sox9_ovc_unfav)} hit\")"
   ]
  },
  {
   "cell_type": "code",
   "execution_count": 20,
   "metadata": {
    "scrolled": true
   },
   "outputs": [
    {
     "name": "stdout",
     "output_type": "stream",
     "text": [
      "After duplicates elimination, we have 73 hit\n"
     ]
    }
   ],
   "source": [
    "sox9_ovc_unfav = set(sox9_ovc_unfav)\n",
    "print(f\"After duplicates elimination, we have {len(sox9_ovc_unfav)} hit\")"
   ]
  },
  {
   "cell_type": "code",
   "execution_count": 21,
   "metadata": {},
   "outputs": [
    {
     "name": "stdout",
     "output_type": "stream",
     "text": [
      "{'PPL', 'NRROS', 'CAB39L', 'FBXL20', 'TOM1L2', 'PGAP3', 'NOTCH2', 'ANKRD13A', 'WNT9A', 'CLDN4', 'LOXL4', 'CERCAM', 'PIM3', 'RECQL', 'HDAC4', 'MYC', 'EMP1', 'MYO9B', 'SCAF8', 'LYVE1', 'JMY', 'DSE', 'TTC7A', 'PPP1R13L', 'FAM120B', 'TPCN2', 'TMEM38A', 'SRGAP1', 'WASF2', 'FCGBP', 'COG3', 'WTAP', 'RB1', 'SH3RF3', 'SLC25A30', 'SNX33', 'GALNT10', 'TYW1', 'SLC12A9', 'GRB7', 'WNK1', 'AP2A1', 'GPAT4', 'MTX3', 'PC', 'TRPV4', 'TBC1D22A', 'LPIN3', 'SPIDR', 'MYPOP', 'SLC9A1', 'TSC22D1', 'EBPL', 'JUNB', 'UNC5B', 'KCTD11', 'FANCD2', 'RPL7A', 'POLR1A', 'PJA2', 'MFAP4', 'PLXNA1', 'SOCS5', 'C6ORF120', 'AAK1', 'RIPK4', 'PPIP5K1', 'SLC39A13', 'SCNN1A', 'GAL3ST4', 'ANXA4', 'LMTK2', 'FAM98C'}\n"
     ]
    }
   ],
   "source": [
    "print(sox9_ovc_unfav)"
   ]
  },
  {
   "cell_type": "markdown",
   "metadata": {},
   "source": [
    "# Let's save the result "
   ]
  },
  {
   "cell_type": "markdown",
   "metadata": {},
   "source": [
    "#### Sox9 targets that are favorable in ovarian cancer"
   ]
  },
  {
   "cell_type": "code",
   "execution_count": 22,
   "metadata": {
    "scrolled": true
   },
   "outputs": [
    {
     "data": {
      "text/html": [
       "<div>\n",
       "<style scoped>\n",
       "    .dataframe tbody tr th:only-of-type {\n",
       "        vertical-align: middle;\n",
       "    }\n",
       "\n",
       "    .dataframe tbody tr th {\n",
       "        vertical-align: top;\n",
       "    }\n",
       "\n",
       "    .dataframe thead th {\n",
       "        text-align: right;\n",
       "    }\n",
       "</style>\n",
       "<table border=\"1\" class=\"dataframe\">\n",
       "  <thead>\n",
       "    <tr style=\"text-align: right;\">\n",
       "      <th></th>\n",
       "      <th>Genes</th>\n",
       "      <th>Scores</th>\n",
       "    </tr>\n",
       "  </thead>\n",
       "  <tbody>\n",
       "    <tr>\n",
       "      <td>0</td>\n",
       "      <td>UBE2L3</td>\n",
       "      <td>26.4</td>\n",
       "    </tr>\n",
       "    <tr>\n",
       "      <td>1</td>\n",
       "      <td>CCDC34</td>\n",
       "      <td>12.1</td>\n",
       "    </tr>\n",
       "    <tr>\n",
       "      <td>2</td>\n",
       "      <td>HMGB3</td>\n",
       "      <td>11.8</td>\n",
       "    </tr>\n",
       "    <tr>\n",
       "      <td>3</td>\n",
       "      <td>CWC15</td>\n",
       "      <td>32.3</td>\n",
       "    </tr>\n",
       "    <tr>\n",
       "      <td>4</td>\n",
       "      <td>C18ORF21</td>\n",
       "      <td>26.0</td>\n",
       "    </tr>\n",
       "    <tr>\n",
       "      <td>5</td>\n",
       "      <td>JTB</td>\n",
       "      <td>33.1</td>\n",
       "    </tr>\n",
       "    <tr>\n",
       "      <td>6</td>\n",
       "      <td>LIPT2</td>\n",
       "      <td>10.2</td>\n",
       "    </tr>\n",
       "    <tr>\n",
       "      <td>7</td>\n",
       "      <td>C17ORF75</td>\n",
       "      <td>45.1</td>\n",
       "    </tr>\n",
       "    <tr>\n",
       "      <td>8</td>\n",
       "      <td>QRICH1</td>\n",
       "      <td>32.6</td>\n",
       "    </tr>\n",
       "    <tr>\n",
       "      <td>9</td>\n",
       "      <td>ZNF354A</td>\n",
       "      <td>13.9</td>\n",
       "    </tr>\n",
       "  </tbody>\n",
       "</table>\n",
       "</div>"
      ],
      "text/plain": [
       "      Genes  Scores\n",
       "0    UBE2L3    26.4\n",
       "1    CCDC34    12.1\n",
       "2     HMGB3    11.8\n",
       "3     CWC15    32.3\n",
       "4  C18ORF21    26.0\n",
       "5       JTB    33.1\n",
       "6     LIPT2    10.2\n",
       "7  C17ORF75    45.1\n",
       "8    QRICH1    32.6\n",
       "9   ZNF354A    13.9"
      ]
     },
     "execution_count": 22,
     "metadata": {},
     "output_type": "execute_result"
    }
   ],
   "source": [
    "sox9_ovc_fav_df = pd.DataFrame(data={\"Genes\":list(sox9_ovc_fav),\"Scores\":[sox9_ovc_fav_score[g] for g in sox9_ovc_fav]})\n",
    "sox9_ovc_fav_df[:10]"
   ]
  },
  {
   "cell_type": "code",
   "execution_count": 23,
   "metadata": {},
   "outputs": [],
   "source": [
    "sox9_ovc_fav_df.to_excel(\"./final_results/sox9_ovc_fav.xlsx\", header=True, index=False)"
   ]
  },
  {
   "cell_type": "markdown",
   "metadata": {},
   "source": [
    "#### Sox9 targets that are unfavorable in ovarian cancer"
   ]
  },
  {
   "cell_type": "code",
   "execution_count": 24,
   "metadata": {},
   "outputs": [
    {
     "data": {
      "text/html": [
       "<div>\n",
       "<style scoped>\n",
       "    .dataframe tbody tr th:only-of-type {\n",
       "        vertical-align: middle;\n",
       "    }\n",
       "\n",
       "    .dataframe tbody tr th {\n",
       "        vertical-align: top;\n",
       "    }\n",
       "\n",
       "    .dataframe thead th {\n",
       "        text-align: right;\n",
       "    }\n",
       "</style>\n",
       "<table border=\"1\" class=\"dataframe\">\n",
       "  <thead>\n",
       "    <tr style=\"text-align: right;\">\n",
       "      <th></th>\n",
       "      <th>Genes</th>\n",
       "      <th>Scores</th>\n",
       "    </tr>\n",
       "  </thead>\n",
       "  <tbody>\n",
       "    <tr>\n",
       "      <td>0</td>\n",
       "      <td>PPL</td>\n",
       "      <td>18.1</td>\n",
       "    </tr>\n",
       "    <tr>\n",
       "      <td>1</td>\n",
       "      <td>NRROS</td>\n",
       "      <td>8.7</td>\n",
       "    </tr>\n",
       "    <tr>\n",
       "      <td>2</td>\n",
       "      <td>CAB39L</td>\n",
       "      <td>46.2</td>\n",
       "    </tr>\n",
       "    <tr>\n",
       "      <td>3</td>\n",
       "      <td>FBXL20</td>\n",
       "      <td>13.1</td>\n",
       "    </tr>\n",
       "    <tr>\n",
       "      <td>4</td>\n",
       "      <td>TOM1L2</td>\n",
       "      <td>92.1</td>\n",
       "    </tr>\n",
       "    <tr>\n",
       "      <td>5</td>\n",
       "      <td>PGAP3</td>\n",
       "      <td>89.3</td>\n",
       "    </tr>\n",
       "    <tr>\n",
       "      <td>6</td>\n",
       "      <td>NOTCH2</td>\n",
       "      <td>19.8</td>\n",
       "    </tr>\n",
       "    <tr>\n",
       "      <td>7</td>\n",
       "      <td>ANKRD13A</td>\n",
       "      <td>134.9</td>\n",
       "    </tr>\n",
       "    <tr>\n",
       "      <td>8</td>\n",
       "      <td>WNT9A</td>\n",
       "      <td>15.2</td>\n",
       "    </tr>\n",
       "    <tr>\n",
       "      <td>9</td>\n",
       "      <td>CLDN4</td>\n",
       "      <td>29.2</td>\n",
       "    </tr>\n",
       "  </tbody>\n",
       "</table>\n",
       "</div>"
      ],
      "text/plain": [
       "      Genes  Scores\n",
       "0       PPL    18.1\n",
       "1     NRROS     8.7\n",
       "2    CAB39L    46.2\n",
       "3    FBXL20    13.1\n",
       "4    TOM1L2    92.1\n",
       "5     PGAP3    89.3\n",
       "6    NOTCH2    19.8\n",
       "7  ANKRD13A   134.9\n",
       "8     WNT9A    15.2\n",
       "9     CLDN4    29.2"
      ]
     },
     "execution_count": 24,
     "metadata": {},
     "output_type": "execute_result"
    }
   ],
   "source": [
    "sox9_ovc_unfav_df = pd.DataFrame(data={\"Genes\":list(sox9_ovc_unfav),\"Scores\":[sox9_ovc_unfav_score[g] for g in sox9_ovc_unfav]})\n",
    "sox9_ovc_unfav_df[:10]"
   ]
  },
  {
   "cell_type": "code",
   "execution_count": 25,
   "metadata": {},
   "outputs": [],
   "source": [
    "sox9_ovc_unfav_df.to_excel(\"./final_results/sox9_ovc_unfav.xlsx\", header=True, index=False)"
   ]
  },
  {
   "cell_type": "code",
   "execution_count": null,
   "metadata": {},
   "outputs": [],
   "source": []
  }
 ],
 "metadata": {
  "kernelspec": {
   "display_name": "Python 3",
   "language": "python",
   "name": "python3"
  },
  "language_info": {
   "codemirror_mode": {
    "name": "ipython",
    "version": 3
   },
   "file_extension": ".py",
   "mimetype": "text/x-python",
   "name": "python",
   "nbconvert_exporter": "python",
   "pygments_lexer": "ipython3",
   "version": "3.7.4"
  }
 },
 "nbformat": 4,
 "nbformat_minor": 2
}

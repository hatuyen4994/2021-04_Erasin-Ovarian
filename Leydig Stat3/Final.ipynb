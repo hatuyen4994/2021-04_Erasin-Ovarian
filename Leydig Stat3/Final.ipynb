{
 "cells": [
  {
   "cell_type": "code",
   "execution_count": 1,
   "metadata": {},
   "outputs": [],
   "source": [
    "import pandas as pd"
   ]
  },
  {
   "cell_type": "markdown",
   "metadata": {},
   "source": [
    "# ChIP Atlas Genes targets of STAT3 (mm10)"
   ]
  },
  {
   "cell_type": "markdown",
   "metadata": {},
   "source": [
    "The first data set is retrieved from ChIP Atlas. We went to \"Target genes\" function, in mouse genome mm10, searched in the +- 10k kb distance from the TSS of all genes to find gene targets of Stat3. \n",
    "\n",
    "Let's take a look at the dataset"
   ]
  },
  {
   "cell_type": "code",
   "execution_count": 2,
   "metadata": {},
   "outputs": [
    {
     "name": "stdout",
     "output_type": "stream",
     "text": [
      "There are 15918 genes retrieved from ChIP-Atlas \n"
     ]
    }
   ],
   "source": [
    "stat3 = pd.read_csv(\"./input/Stat3.10.tsv\", delimiter=\"\\t\")\n",
    "print(f\"There are {stat3.shape[0]} genes retrieved from ChIP-Atlas \")"
   ]
  },
  {
   "cell_type": "code",
   "execution_count": 3,
   "metadata": {
    "scrolled": true
   },
   "outputs": [
    {
     "data": {
      "text/html": [
       "<div>\n",
       "<style scoped>\n",
       "    .dataframe tbody tr th:only-of-type {\n",
       "        vertical-align: middle;\n",
       "    }\n",
       "\n",
       "    .dataframe tbody tr th {\n",
       "        vertical-align: top;\n",
       "    }\n",
       "\n",
       "    .dataframe thead th {\n",
       "        text-align: right;\n",
       "    }\n",
       "</style>\n",
       "<table border=\"1\" class=\"dataframe\">\n",
       "  <thead>\n",
       "    <tr style=\"text-align: right;\">\n",
       "      <th></th>\n",
       "      <th>Target_genes</th>\n",
       "      <th>Stat3|Average</th>\n",
       "      <th>SRX361677|Astrocytes</th>\n",
       "      <th>SRX2182965|AtT-20</th>\n",
       "      <th>SRX2463208|AtT-20</th>\n",
       "      <th>SRX2463209|AtT-20</th>\n",
       "      <th>SRX015582|CD4-Positive_T-Lymphocytes</th>\n",
       "      <th>SRX015583|CD4-Positive_T-Lymphocytes</th>\n",
       "      <th>SRX015584|CD4-Positive_T-Lymphocytes</th>\n",
       "      <th>SRX015585|CD4-Positive_T-Lymphocytes</th>\n",
       "      <th>...</th>\n",
       "      <th>SRX187264|Th17_Cells</th>\n",
       "      <th>SRX187265|Th17_Cells</th>\n",
       "      <th>SRX187266|Th17_Cells</th>\n",
       "      <th>SRX187267|Th17_Cells</th>\n",
       "      <th>SRX187268|Th17_Cells</th>\n",
       "      <th>SRX187269|Th17_Cells</th>\n",
       "      <th>SRX187270|Th17_Cells</th>\n",
       "      <th>SRX187271|Th17_Cells</th>\n",
       "      <th>SRX037909|Th1_Cells</th>\n",
       "      <th>STRING</th>\n",
       "    </tr>\n",
       "  </thead>\n",
       "  <tbody>\n",
       "    <tr>\n",
       "      <td>0</td>\n",
       "      <td>Stat3</td>\n",
       "      <td>992.453488</td>\n",
       "      <td>665</td>\n",
       "      <td>3185</td>\n",
       "      <td>3212</td>\n",
       "      <td>3411</td>\n",
       "      <td>0</td>\n",
       "      <td>0</td>\n",
       "      <td>0</td>\n",
       "      <td>0</td>\n",
       "      <td>...</td>\n",
       "      <td>2022</td>\n",
       "      <td>2042</td>\n",
       "      <td>2178</td>\n",
       "      <td>0</td>\n",
       "      <td>2122</td>\n",
       "      <td>2196</td>\n",
       "      <td>1420</td>\n",
       "      <td>2102</td>\n",
       "      <td>1472</td>\n",
       "      <td>0</td>\n",
       "    </tr>\n",
       "    <tr>\n",
       "      <td>1</td>\n",
       "      <td>Tcstv3</td>\n",
       "      <td>916.732558</td>\n",
       "      <td>903</td>\n",
       "      <td>234</td>\n",
       "      <td>0</td>\n",
       "      <td>0</td>\n",
       "      <td>409</td>\n",
       "      <td>189</td>\n",
       "      <td>0</td>\n",
       "      <td>0</td>\n",
       "      <td>...</td>\n",
       "      <td>1653</td>\n",
       "      <td>2177</td>\n",
       "      <td>1335</td>\n",
       "      <td>842</td>\n",
       "      <td>2268</td>\n",
       "      <td>2311</td>\n",
       "      <td>1828</td>\n",
       "      <td>2317</td>\n",
       "      <td>922</td>\n",
       "      <td>0</td>\n",
       "    </tr>\n",
       "    <tr>\n",
       "      <td>2</td>\n",
       "      <td>Stat1</td>\n",
       "      <td>780.127907</td>\n",
       "      <td>396</td>\n",
       "      <td>3478</td>\n",
       "      <td>3357</td>\n",
       "      <td>3032</td>\n",
       "      <td>0</td>\n",
       "      <td>0</td>\n",
       "      <td>0</td>\n",
       "      <td>0</td>\n",
       "      <td>...</td>\n",
       "      <td>1676</td>\n",
       "      <td>1605</td>\n",
       "      <td>1985</td>\n",
       "      <td>0</td>\n",
       "      <td>2236</td>\n",
       "      <td>2247</td>\n",
       "      <td>1375</td>\n",
       "      <td>1949</td>\n",
       "      <td>1799</td>\n",
       "      <td>0</td>\n",
       "    </tr>\n",
       "    <tr>\n",
       "      <td>3</td>\n",
       "      <td>Txndc11</td>\n",
       "      <td>753.360465</td>\n",
       "      <td>182</td>\n",
       "      <td>1954</td>\n",
       "      <td>1892</td>\n",
       "      <td>1583</td>\n",
       "      <td>211</td>\n",
       "      <td>149</td>\n",
       "      <td>943</td>\n",
       "      <td>878</td>\n",
       "      <td>...</td>\n",
       "      <td>363</td>\n",
       "      <td>633</td>\n",
       "      <td>540</td>\n",
       "      <td>445</td>\n",
       "      <td>1147</td>\n",
       "      <td>1178</td>\n",
       "      <td>1280</td>\n",
       "      <td>1390</td>\n",
       "      <td>650</td>\n",
       "      <td>0</td>\n",
       "    </tr>\n",
       "    <tr>\n",
       "      <td>4</td>\n",
       "      <td>Sbno2</td>\n",
       "      <td>685.220930</td>\n",
       "      <td>0</td>\n",
       "      <td>2114</td>\n",
       "      <td>2094</td>\n",
       "      <td>1921</td>\n",
       "      <td>0</td>\n",
       "      <td>0</td>\n",
       "      <td>0</td>\n",
       "      <td>0</td>\n",
       "      <td>...</td>\n",
       "      <td>1692</td>\n",
       "      <td>1708</td>\n",
       "      <td>2010</td>\n",
       "      <td>274</td>\n",
       "      <td>2113</td>\n",
       "      <td>2125</td>\n",
       "      <td>1430</td>\n",
       "      <td>1860</td>\n",
       "      <td>1529</td>\n",
       "      <td>0</td>\n",
       "    </tr>\n",
       "    <tr>\n",
       "      <td>5</td>\n",
       "      <td>Cldn34d</td>\n",
       "      <td>624.197674</td>\n",
       "      <td>730</td>\n",
       "      <td>1480</td>\n",
       "      <td>1778</td>\n",
       "      <td>1528</td>\n",
       "      <td>198</td>\n",
       "      <td>163</td>\n",
       "      <td>280</td>\n",
       "      <td>263</td>\n",
       "      <td>...</td>\n",
       "      <td>842</td>\n",
       "      <td>823</td>\n",
       "      <td>948</td>\n",
       "      <td>411</td>\n",
       "      <td>1115</td>\n",
       "      <td>1093</td>\n",
       "      <td>708</td>\n",
       "      <td>960</td>\n",
       "      <td>789</td>\n",
       "      <td>0</td>\n",
       "    </tr>\n",
       "    <tr>\n",
       "      <td>6</td>\n",
       "      <td>Kpna1</td>\n",
       "      <td>584.709302</td>\n",
       "      <td>585</td>\n",
       "      <td>190</td>\n",
       "      <td>132</td>\n",
       "      <td>0</td>\n",
       "      <td>263</td>\n",
       "      <td>200</td>\n",
       "      <td>1091</td>\n",
       "      <td>702</td>\n",
       "      <td>...</td>\n",
       "      <td>527</td>\n",
       "      <td>572</td>\n",
       "      <td>942</td>\n",
       "      <td>481</td>\n",
       "      <td>451</td>\n",
       "      <td>654</td>\n",
       "      <td>924</td>\n",
       "      <td>848</td>\n",
       "      <td>603</td>\n",
       "      <td>0</td>\n",
       "    </tr>\n",
       "    <tr>\n",
       "      <td>7</td>\n",
       "      <td>Junb</td>\n",
       "      <td>572.406977</td>\n",
       "      <td>284</td>\n",
       "      <td>2804</td>\n",
       "      <td>2716</td>\n",
       "      <td>2603</td>\n",
       "      <td>0</td>\n",
       "      <td>0</td>\n",
       "      <td>0</td>\n",
       "      <td>0</td>\n",
       "      <td>...</td>\n",
       "      <td>1537</td>\n",
       "      <td>1576</td>\n",
       "      <td>1461</td>\n",
       "      <td>0</td>\n",
       "      <td>1621</td>\n",
       "      <td>1629</td>\n",
       "      <td>1111</td>\n",
       "      <td>1594</td>\n",
       "      <td>1007</td>\n",
       "      <td>0</td>\n",
       "    </tr>\n",
       "    <tr>\n",
       "      <td>8</td>\n",
       "      <td>Prdx2</td>\n",
       "      <td>571.558140</td>\n",
       "      <td>284</td>\n",
       "      <td>2804</td>\n",
       "      <td>2716</td>\n",
       "      <td>2603</td>\n",
       "      <td>0</td>\n",
       "      <td>0</td>\n",
       "      <td>0</td>\n",
       "      <td>0</td>\n",
       "      <td>...</td>\n",
       "      <td>1537</td>\n",
       "      <td>1576</td>\n",
       "      <td>1461</td>\n",
       "      <td>0</td>\n",
       "      <td>1621</td>\n",
       "      <td>1629</td>\n",
       "      <td>1111</td>\n",
       "      <td>1594</td>\n",
       "      <td>1007</td>\n",
       "      <td>0</td>\n",
       "    </tr>\n",
       "    <tr>\n",
       "      <td>9</td>\n",
       "      <td>Greb1</td>\n",
       "      <td>558.174419</td>\n",
       "      <td>935</td>\n",
       "      <td>0</td>\n",
       "      <td>0</td>\n",
       "      <td>0</td>\n",
       "      <td>176</td>\n",
       "      <td>223</td>\n",
       "      <td>0</td>\n",
       "      <td>0</td>\n",
       "      <td>...</td>\n",
       "      <td>1026</td>\n",
       "      <td>1137</td>\n",
       "      <td>721</td>\n",
       "      <td>1052</td>\n",
       "      <td>1152</td>\n",
       "      <td>1154</td>\n",
       "      <td>1305</td>\n",
       "      <td>1139</td>\n",
       "      <td>433</td>\n",
       "      <td>0</td>\n",
       "    </tr>\n",
       "  </tbody>\n",
       "</table>\n",
       "<p>10 rows × 89 columns</p>\n",
       "</div>"
      ],
      "text/plain": [
       "  Target_genes  Stat3|Average  SRX361677|Astrocytes  SRX2182965|AtT-20  \\\n",
       "0        Stat3     992.453488                   665               3185   \n",
       "1       Tcstv3     916.732558                   903                234   \n",
       "2        Stat1     780.127907                   396               3478   \n",
       "3      Txndc11     753.360465                   182               1954   \n",
       "4        Sbno2     685.220930                     0               2114   \n",
       "5      Cldn34d     624.197674                   730               1480   \n",
       "6        Kpna1     584.709302                   585                190   \n",
       "7         Junb     572.406977                   284               2804   \n",
       "8        Prdx2     571.558140                   284               2804   \n",
       "9        Greb1     558.174419                   935                  0   \n",
       "\n",
       "   SRX2463208|AtT-20  SRX2463209|AtT-20  SRX015582|CD4-Positive_T-Lymphocytes  \\\n",
       "0               3212               3411                                     0   \n",
       "1                  0                  0                                   409   \n",
       "2               3357               3032                                     0   \n",
       "3               1892               1583                                   211   \n",
       "4               2094               1921                                     0   \n",
       "5               1778               1528                                   198   \n",
       "6                132                  0                                   263   \n",
       "7               2716               2603                                     0   \n",
       "8               2716               2603                                     0   \n",
       "9                  0                  0                                   176   \n",
       "\n",
       "   SRX015583|CD4-Positive_T-Lymphocytes  SRX015584|CD4-Positive_T-Lymphocytes  \\\n",
       "0                                     0                                     0   \n",
       "1                                   189                                     0   \n",
       "2                                     0                                     0   \n",
       "3                                   149                                   943   \n",
       "4                                     0                                     0   \n",
       "5                                   163                                   280   \n",
       "6                                   200                                  1091   \n",
       "7                                     0                                     0   \n",
       "8                                     0                                     0   \n",
       "9                                   223                                     0   \n",
       "\n",
       "   SRX015585|CD4-Positive_T-Lymphocytes  ...  SRX187264|Th17_Cells  \\\n",
       "0                                     0  ...                  2022   \n",
       "1                                     0  ...                  1653   \n",
       "2                                     0  ...                  1676   \n",
       "3                                   878  ...                   363   \n",
       "4                                     0  ...                  1692   \n",
       "5                                   263  ...                   842   \n",
       "6                                   702  ...                   527   \n",
       "7                                     0  ...                  1537   \n",
       "8                                     0  ...                  1537   \n",
       "9                                     0  ...                  1026   \n",
       "\n",
       "   SRX187265|Th17_Cells  SRX187266|Th17_Cells  SRX187267|Th17_Cells  \\\n",
       "0                  2042                  2178                     0   \n",
       "1                  2177                  1335                   842   \n",
       "2                  1605                  1985                     0   \n",
       "3                   633                   540                   445   \n",
       "4                  1708                  2010                   274   \n",
       "5                   823                   948                   411   \n",
       "6                   572                   942                   481   \n",
       "7                  1576                  1461                     0   \n",
       "8                  1576                  1461                     0   \n",
       "9                  1137                   721                  1052   \n",
       "\n",
       "   SRX187268|Th17_Cells  SRX187269|Th17_Cells  SRX187270|Th17_Cells  \\\n",
       "0                  2122                  2196                  1420   \n",
       "1                  2268                  2311                  1828   \n",
       "2                  2236                  2247                  1375   \n",
       "3                  1147                  1178                  1280   \n",
       "4                  2113                  2125                  1430   \n",
       "5                  1115                  1093                   708   \n",
       "6                   451                   654                   924   \n",
       "7                  1621                  1629                  1111   \n",
       "8                  1621                  1629                  1111   \n",
       "9                  1152                  1154                  1305   \n",
       "\n",
       "   SRX187271|Th17_Cells  SRX037909|Th1_Cells  STRING  \n",
       "0                  2102                 1472       0  \n",
       "1                  2317                  922       0  \n",
       "2                  1949                 1799       0  \n",
       "3                  1390                  650       0  \n",
       "4                  1860                 1529       0  \n",
       "5                   960                  789       0  \n",
       "6                   848                  603       0  \n",
       "7                  1594                 1007       0  \n",
       "8                  1594                 1007       0  \n",
       "9                  1139                  433       0  \n",
       "\n",
       "[10 rows x 89 columns]"
      ]
     },
     "execution_count": 3,
     "metadata": {},
     "output_type": "execute_result"
    }
   ],
   "source": [
    "stat3[:10]"
   ]
  },
  {
   "cell_type": "markdown",
   "metadata": {},
   "source": [
    "We only wanted the first and second columns (which is the score).  "
   ]
  },
  {
   "cell_type": "code",
   "execution_count": 4,
   "metadata": {},
   "outputs": [],
   "source": [
    "stat3.rename(columns={\"Stat3|Average\":\"Score\"}, inplace=True)"
   ]
  },
  {
   "cell_type": "code",
   "execution_count": 5,
   "metadata": {},
   "outputs": [],
   "source": [
    "stat3[:][[\"Target_genes\",\"Score\"]].to_csv(\"./input/stat3_targets.csv\", header=True, index=False)"
   ]
  },
  {
   "cell_type": "code",
   "execution_count": 6,
   "metadata": {},
   "outputs": [
    {
     "data": {
      "text/html": [
       "<div>\n",
       "<style scoped>\n",
       "    .dataframe tbody tr th:only-of-type {\n",
       "        vertical-align: middle;\n",
       "    }\n",
       "\n",
       "    .dataframe tbody tr th {\n",
       "        vertical-align: top;\n",
       "    }\n",
       "\n",
       "    .dataframe thead th {\n",
       "        text-align: right;\n",
       "    }\n",
       "</style>\n",
       "<table border=\"1\" class=\"dataframe\">\n",
       "  <thead>\n",
       "    <tr style=\"text-align: right;\">\n",
       "      <th></th>\n",
       "      <th>Target_genes</th>\n",
       "      <th>Score</th>\n",
       "    </tr>\n",
       "  </thead>\n",
       "  <tbody>\n",
       "    <tr>\n",
       "      <td>0</td>\n",
       "      <td>Stat3</td>\n",
       "      <td>992.453488</td>\n",
       "    </tr>\n",
       "    <tr>\n",
       "      <td>1</td>\n",
       "      <td>Tcstv3</td>\n",
       "      <td>916.732558</td>\n",
       "    </tr>\n",
       "    <tr>\n",
       "      <td>2</td>\n",
       "      <td>Stat1</td>\n",
       "      <td>780.127907</td>\n",
       "    </tr>\n",
       "    <tr>\n",
       "      <td>3</td>\n",
       "      <td>Txndc11</td>\n",
       "      <td>753.360465</td>\n",
       "    </tr>\n",
       "    <tr>\n",
       "      <td>4</td>\n",
       "      <td>Sbno2</td>\n",
       "      <td>685.220930</td>\n",
       "    </tr>\n",
       "    <tr>\n",
       "      <td>5</td>\n",
       "      <td>Cldn34d</td>\n",
       "      <td>624.197674</td>\n",
       "    </tr>\n",
       "    <tr>\n",
       "      <td>6</td>\n",
       "      <td>Kpna1</td>\n",
       "      <td>584.709302</td>\n",
       "    </tr>\n",
       "    <tr>\n",
       "      <td>7</td>\n",
       "      <td>Junb</td>\n",
       "      <td>572.406977</td>\n",
       "    </tr>\n",
       "    <tr>\n",
       "      <td>8</td>\n",
       "      <td>Prdx2</td>\n",
       "      <td>571.558140</td>\n",
       "    </tr>\n",
       "    <tr>\n",
       "      <td>9</td>\n",
       "      <td>Greb1</td>\n",
       "      <td>558.174419</td>\n",
       "    </tr>\n",
       "  </tbody>\n",
       "</table>\n",
       "</div>"
      ],
      "text/plain": [
       "  Target_genes       Score\n",
       "0        Stat3  992.453488\n",
       "1       Tcstv3  916.732558\n",
       "2        Stat1  780.127907\n",
       "3      Txndc11  753.360465\n",
       "4        Sbno2  685.220930\n",
       "5      Cldn34d  624.197674\n",
       "6        Kpna1  584.709302\n",
       "7         Junb  572.406977\n",
       "8        Prdx2  571.558140\n",
       "9        Greb1  558.174419"
      ]
     },
     "execution_count": 6,
     "metadata": {},
     "output_type": "execute_result"
    }
   ],
   "source": [
    "stat3_targets = pd.read_csv(\"./input/stat3_targets.csv\")\n",
    "stat3_targets[:10]"
   ]
  },
  {
   "cell_type": "markdown",
   "metadata": {},
   "source": [
    "Let's put the gene names in upper case for easier search down the way"
   ]
  },
  {
   "cell_type": "code",
   "execution_count": 7,
   "metadata": {
    "scrolled": true
   },
   "outputs": [
    {
     "data": {
      "text/html": [
       "<div>\n",
       "<style scoped>\n",
       "    .dataframe tbody tr th:only-of-type {\n",
       "        vertical-align: middle;\n",
       "    }\n",
       "\n",
       "    .dataframe tbody tr th {\n",
       "        vertical-align: top;\n",
       "    }\n",
       "\n",
       "    .dataframe thead th {\n",
       "        text-align: right;\n",
       "    }\n",
       "</style>\n",
       "<table border=\"1\" class=\"dataframe\">\n",
       "  <thead>\n",
       "    <tr style=\"text-align: right;\">\n",
       "      <th></th>\n",
       "      <th>Target_genes</th>\n",
       "      <th>Score</th>\n",
       "    </tr>\n",
       "  </thead>\n",
       "  <tbody>\n",
       "    <tr>\n",
       "      <td>0</td>\n",
       "      <td>STAT3</td>\n",
       "      <td>992.453488</td>\n",
       "    </tr>\n",
       "    <tr>\n",
       "      <td>1</td>\n",
       "      <td>TCSTV3</td>\n",
       "      <td>916.732558</td>\n",
       "    </tr>\n",
       "    <tr>\n",
       "      <td>2</td>\n",
       "      <td>STAT1</td>\n",
       "      <td>780.127907</td>\n",
       "    </tr>\n",
       "    <tr>\n",
       "      <td>3</td>\n",
       "      <td>TXNDC11</td>\n",
       "      <td>753.360465</td>\n",
       "    </tr>\n",
       "    <tr>\n",
       "      <td>4</td>\n",
       "      <td>SBNO2</td>\n",
       "      <td>685.220930</td>\n",
       "    </tr>\n",
       "    <tr>\n",
       "      <td>5</td>\n",
       "      <td>CLDN34D</td>\n",
       "      <td>624.197674</td>\n",
       "    </tr>\n",
       "    <tr>\n",
       "      <td>6</td>\n",
       "      <td>KPNA1</td>\n",
       "      <td>584.709302</td>\n",
       "    </tr>\n",
       "    <tr>\n",
       "      <td>7</td>\n",
       "      <td>JUNB</td>\n",
       "      <td>572.406977</td>\n",
       "    </tr>\n",
       "    <tr>\n",
       "      <td>8</td>\n",
       "      <td>PRDX2</td>\n",
       "      <td>571.558140</td>\n",
       "    </tr>\n",
       "    <tr>\n",
       "      <td>9</td>\n",
       "      <td>GREB1</td>\n",
       "      <td>558.174419</td>\n",
       "    </tr>\n",
       "  </tbody>\n",
       "</table>\n",
       "</div>"
      ],
      "text/plain": [
       "  Target_genes       Score\n",
       "0        STAT3  992.453488\n",
       "1       TCSTV3  916.732558\n",
       "2        STAT1  780.127907\n",
       "3      TXNDC11  753.360465\n",
       "4        SBNO2  685.220930\n",
       "5      CLDN34D  624.197674\n",
       "6        KPNA1  584.709302\n",
       "7         JUNB  572.406977\n",
       "8        PRDX2  571.558140\n",
       "9        GREB1  558.174419"
      ]
     },
     "execution_count": 7,
     "metadata": {},
     "output_type": "execute_result"
    }
   ],
   "source": [
    "stat3_targets[:][\"Target_genes\"] = stat3_targets[:][\"Target_genes\"].apply(lambda x:x.upper())\n",
    "stat3_targets[:10]"
   ]
  },
  {
   "cell_type": "markdown",
   "metadata": {},
   "source": [
    "# HPA Genes expressed in Leydig cells "
   ]
  },
  {
   "cell_type": "markdown",
   "metadata": {},
   "source": [
    "Here, we want a list of genes that are expressed in human Leydig cells. We do did by query the Human Protein Atlas database with \"normal_expression:Testis;Leydig cells;Medium,High\".\n",
    "\n",
    "This will give us a list of genes that are expressed in human Leydig cells with evidence from IHC at medium and high level of expression. "
   ]
  },
  {
   "cell_type": "code",
   "execution_count": 8,
   "metadata": {
    "scrolled": true
   },
   "outputs": [
    {
     "name": "stdout",
     "output_type": "stream",
     "text": [
      "There are 6802 genes expressed in Leydig cells from HPA\n"
     ]
    }
   ],
   "source": [
    "hpa_leydig = pd.read_csv(\"./input/normal_expression_Testis_Leydig.tsv\",delimiter=\"\\t\", usecols=[0,1,2,3])\n",
    "print(f\"There are {hpa_leydig.shape[0]} genes expressed in Leydig cells from HPA\")"
   ]
  },
  {
   "cell_type": "markdown",
   "metadata": {},
   "source": [
    "Make sure to put all the gene names in upper case.Let's take a look at the data set"
   ]
  },
  {
   "cell_type": "code",
   "execution_count": 9,
   "metadata": {
    "scrolled": false
   },
   "outputs": [
    {
     "data": {
      "text/html": [
       "<div>\n",
       "<style scoped>\n",
       "    .dataframe tbody tr th:only-of-type {\n",
       "        vertical-align: middle;\n",
       "    }\n",
       "\n",
       "    .dataframe tbody tr th {\n",
       "        vertical-align: top;\n",
       "    }\n",
       "\n",
       "    .dataframe thead th {\n",
       "        text-align: right;\n",
       "    }\n",
       "</style>\n",
       "<table border=\"1\" class=\"dataframe\">\n",
       "  <thead>\n",
       "    <tr style=\"text-align: right;\">\n",
       "      <th></th>\n",
       "      <th>Gene</th>\n",
       "      <th>Gene synonym</th>\n",
       "      <th>Ensembl</th>\n",
       "      <th>Gene description</th>\n",
       "    </tr>\n",
       "  </thead>\n",
       "  <tbody>\n",
       "    <tr>\n",
       "      <td>0</td>\n",
       "      <td>AAAS</td>\n",
       "      <td>NaN</td>\n",
       "      <td>ENSG00000094914</td>\n",
       "      <td>Aladin WD repeat nucleoporin</td>\n",
       "    </tr>\n",
       "    <tr>\n",
       "      <td>1</td>\n",
       "      <td>AACS</td>\n",
       "      <td>ACSF1, FLJ12389, SUR-5</td>\n",
       "      <td>ENSG00000081760</td>\n",
       "      <td>Acetoacetyl-CoA synthetase</td>\n",
       "    </tr>\n",
       "    <tr>\n",
       "      <td>2</td>\n",
       "      <td>AAED1</td>\n",
       "      <td>C9orf21</td>\n",
       "      <td>ENSG00000158122</td>\n",
       "      <td>AhpC/TSA antioxidant enzyme domain containing 1</td>\n",
       "    </tr>\n",
       "    <tr>\n",
       "      <td>3</td>\n",
       "      <td>AAGAB</td>\n",
       "      <td>FLJ11506, p34</td>\n",
       "      <td>ENSG00000103591</td>\n",
       "      <td>Alpha and gamma adaptin binding protein</td>\n",
       "    </tr>\n",
       "    <tr>\n",
       "      <td>4</td>\n",
       "      <td>AAMDC</td>\n",
       "      <td>C11orf67, CK067, FLJ21035, PTD015</td>\n",
       "      <td>ENSG00000087884</td>\n",
       "      <td>Adipogenesis associated Mth938 domain containing</td>\n",
       "    </tr>\n",
       "    <tr>\n",
       "      <td>5</td>\n",
       "      <td>AAMP</td>\n",
       "      <td>NaN</td>\n",
       "      <td>ENSG00000127837</td>\n",
       "      <td>Angio associated migratory cell protein</td>\n",
       "    </tr>\n",
       "    <tr>\n",
       "      <td>6</td>\n",
       "      <td>AARS</td>\n",
       "      <td>AlaRS, CMT2N</td>\n",
       "      <td>ENSG00000090861</td>\n",
       "      <td>Alanyl-tRNA synthetase</td>\n",
       "    </tr>\n",
       "    <tr>\n",
       "      <td>7</td>\n",
       "      <td>AARS2</td>\n",
       "      <td>AARSL, bA444E17.1, KIAA1270</td>\n",
       "      <td>ENSG00000124608</td>\n",
       "      <td>Alanyl-tRNA synthetase 2, mitochondrial</td>\n",
       "    </tr>\n",
       "    <tr>\n",
       "      <td>8</td>\n",
       "      <td>AASDH</td>\n",
       "      <td>ACSF4, LYS2, NRPS998</td>\n",
       "      <td>ENSG00000157426</td>\n",
       "      <td>Aminoadipate-semialdehyde dehydrogenase</td>\n",
       "    </tr>\n",
       "    <tr>\n",
       "      <td>9</td>\n",
       "      <td>AASS</td>\n",
       "      <td>LKRSDH, LORSDH</td>\n",
       "      <td>ENSG00000008311</td>\n",
       "      <td>Aminoadipate-semialdehyde synthase</td>\n",
       "    </tr>\n",
       "  </tbody>\n",
       "</table>\n",
       "</div>"
      ],
      "text/plain": [
       "    Gene                       Gene synonym          Ensembl  \\\n",
       "0   AAAS                                NaN  ENSG00000094914   \n",
       "1   AACS             ACSF1, FLJ12389, SUR-5  ENSG00000081760   \n",
       "2  AAED1                            C9orf21  ENSG00000158122   \n",
       "3  AAGAB                      FLJ11506, p34  ENSG00000103591   \n",
       "4  AAMDC  C11orf67, CK067, FLJ21035, PTD015  ENSG00000087884   \n",
       "5   AAMP                                NaN  ENSG00000127837   \n",
       "6   AARS                       AlaRS, CMT2N  ENSG00000090861   \n",
       "7  AARS2        AARSL, bA444E17.1, KIAA1270  ENSG00000124608   \n",
       "8  AASDH               ACSF4, LYS2, NRPS998  ENSG00000157426   \n",
       "9   AASS                     LKRSDH, LORSDH  ENSG00000008311   \n",
       "\n",
       "                                   Gene description  \n",
       "0                      Aladin WD repeat nucleoporin  \n",
       "1                        Acetoacetyl-CoA synthetase  \n",
       "2   AhpC/TSA antioxidant enzyme domain containing 1  \n",
       "3           Alpha and gamma adaptin binding protein  \n",
       "4  Adipogenesis associated Mth938 domain containing  \n",
       "5           Angio associated migratory cell protein  \n",
       "6                            Alanyl-tRNA synthetase  \n",
       "7           Alanyl-tRNA synthetase 2, mitochondrial  \n",
       "8           Aminoadipate-semialdehyde dehydrogenase  \n",
       "9                Aminoadipate-semialdehyde synthase  "
      ]
     },
     "execution_count": 9,
     "metadata": {},
     "output_type": "execute_result"
    }
   ],
   "source": [
    "hpa_leydig[:][\"Gene\"] = hpa_leydig[:][\"Gene\"].apply(lambda x:x.upper())\n",
    "hpa_leydig[:10]"
   ]
  },
  {
   "cell_type": "markdown",
   "metadata": {},
   "source": [
    "Lucky for us, the data set from hpa also contain gene synonym. This will help us in the next step."
   ]
  },
  {
   "cell_type": "markdown",
   "metadata": {},
   "source": [
    "# Galaxy Erasin-treated Leydig cells (mouse)"
   ]
  },
  {
   "cell_type": "markdown",
   "metadata": {},
   "source": [
    "### Let's read the annotated and preprocessed data of up and down regulated genes"
   ]
  },
  {
   "cell_type": "code",
   "execution_count": 10,
   "metadata": {},
   "outputs": [],
   "source": [
    "downreg = pd.read_csv(\"./input/downregulated_genes_annotated.csv\")\n",
    "upreg = pd.read_csv(\"./input/upregulated_genes_annotated.csv\")"
   ]
  },
  {
   "cell_type": "code",
   "execution_count": 11,
   "metadata": {},
   "outputs": [
    {
     "name": "stdout",
     "output_type": "stream",
     "text": [
      "There are 521 downregulated genes)\n",
      "There are 1829 upregulated genes\n"
     ]
    }
   ],
   "source": [
    "print(f\"There are {downreg.shape[0]} downregulated genes)\")\n",
    "print(f\"There are {upreg.shape[0]} upregulated genes\")"
   ]
  },
  {
   "cell_type": "markdown",
   "metadata": {},
   "source": [
    "Make sure to put gene names in upper case and take a look at the dataset"
   ]
  },
  {
   "cell_type": "code",
   "execution_count": 12,
   "metadata": {},
   "outputs": [],
   "source": [
    "upreg[\"genes_names\"] = upreg[\"genes_names\"].apply(lambda x: x.upper())\n",
    "downreg[\"genes_names\"] = downreg[\"genes_names\"].apply(lambda x: x.upper())"
   ]
  },
  {
   "cell_type": "code",
   "execution_count": 13,
   "metadata": {},
   "outputs": [
    {
     "data": {
      "text/html": [
       "<div>\n",
       "<style scoped>\n",
       "    .dataframe tbody tr th:only-of-type {\n",
       "        vertical-align: middle;\n",
       "    }\n",
       "\n",
       "    .dataframe tbody tr th {\n",
       "        vertical-align: top;\n",
       "    }\n",
       "\n",
       "    .dataframe thead th {\n",
       "        text-align: right;\n",
       "    }\n",
       "</style>\n",
       "<table border=\"1\" class=\"dataframe\">\n",
       "  <thead>\n",
       "    <tr style=\"text-align: right;\">\n",
       "      <th></th>\n",
       "      <th>transcript_ids</th>\n",
       "      <th>transcript_names</th>\n",
       "      <th>gene_ids</th>\n",
       "      <th>genes_names</th>\n",
       "    </tr>\n",
       "  </thead>\n",
       "  <tbody>\n",
       "    <tr>\n",
       "      <td>0</td>\n",
       "      <td>ENSMUST00000039926.9</td>\n",
       "      <td>Dusp8-201</td>\n",
       "      <td>ENSMUSG00000037887</td>\n",
       "      <td>DUSP8</td>\n",
       "    </tr>\n",
       "    <tr>\n",
       "      <td>1</td>\n",
       "      <td>ENSMUST00000026475.14</td>\n",
       "      <td>Ddit3-201</td>\n",
       "      <td>ENSMUSG00000025408</td>\n",
       "      <td>DDIT3</td>\n",
       "    </tr>\n",
       "    <tr>\n",
       "      <td>2</td>\n",
       "      <td>ENSMUST00000100857.9</td>\n",
       "      <td>Dusp16-201</td>\n",
       "      <td>ENSMUSG00000030203</td>\n",
       "      <td>DUSP16</td>\n",
       "    </tr>\n",
       "    <tr>\n",
       "      <td>3</td>\n",
       "      <td>ENSMUST00000146857.1</td>\n",
       "      <td>Gm11274-201</td>\n",
       "      <td>ENSMUSG00000085331</td>\n",
       "      <td>GM11274</td>\n",
       "    </tr>\n",
       "    <tr>\n",
       "      <td>4</td>\n",
       "      <td>ENSMUST00000080511.2</td>\n",
       "      <td>H1f5-201</td>\n",
       "      <td>ENSMUSG00000058773</td>\n",
       "      <td>H1F5</td>\n",
       "    </tr>\n",
       "    <tr>\n",
       "      <td>5</td>\n",
       "      <td>ENSMUST00000021413.8</td>\n",
       "      <td>Nfkbia-201</td>\n",
       "      <td>ENSMUSG00000021025</td>\n",
       "      <td>NFKBIA</td>\n",
       "    </tr>\n",
       "    <tr>\n",
       "      <td>6</td>\n",
       "      <td>ENSMUST00000024988.14</td>\n",
       "      <td>C3-201</td>\n",
       "      <td>ENSMUSG00000024164</td>\n",
       "      <td>C3</td>\n",
       "    </tr>\n",
       "    <tr>\n",
       "      <td>7</td>\n",
       "      <td>ENSMUST00000027012.13</td>\n",
       "      <td>Casp4-201</td>\n",
       "      <td>ENSMUSG00000033538</td>\n",
       "      <td>CASP4</td>\n",
       "    </tr>\n",
       "    <tr>\n",
       "      <td>8</td>\n",
       "      <td>ENSMUST00000105105.3</td>\n",
       "      <td>H3c4-201</td>\n",
       "      <td>ENSMUSG00000099583</td>\n",
       "      <td>H3C4</td>\n",
       "    </tr>\n",
       "    <tr>\n",
       "      <td>9</td>\n",
       "      <td>ENSMUST00000059619.2</td>\n",
       "      <td>Cdc42ep1-201</td>\n",
       "      <td>ENSMUSG00000049521</td>\n",
       "      <td>CDC42EP1</td>\n",
       "    </tr>\n",
       "  </tbody>\n",
       "</table>\n",
       "</div>"
      ],
      "text/plain": [
       "          transcript_ids transcript_names            gene_ids genes_names\n",
       "0   ENSMUST00000039926.9        Dusp8-201  ENSMUSG00000037887       DUSP8\n",
       "1  ENSMUST00000026475.14        Ddit3-201  ENSMUSG00000025408       DDIT3\n",
       "2   ENSMUST00000100857.9       Dusp16-201  ENSMUSG00000030203      DUSP16\n",
       "3   ENSMUST00000146857.1      Gm11274-201  ENSMUSG00000085331     GM11274\n",
       "4   ENSMUST00000080511.2         H1f5-201  ENSMUSG00000058773        H1F5\n",
       "5   ENSMUST00000021413.8       Nfkbia-201  ENSMUSG00000021025      NFKBIA\n",
       "6  ENSMUST00000024988.14           C3-201  ENSMUSG00000024164          C3\n",
       "7  ENSMUST00000027012.13        Casp4-201  ENSMUSG00000033538       CASP4\n",
       "8   ENSMUST00000105105.3         H3c4-201  ENSMUSG00000099583        H3C4\n",
       "9   ENSMUST00000059619.2     Cdc42ep1-201  ENSMUSG00000049521    CDC42EP1"
      ]
     },
     "execution_count": 13,
     "metadata": {},
     "output_type": "execute_result"
    }
   ],
   "source": [
    "upreg[:10]"
   ]
  },
  {
   "cell_type": "code",
   "execution_count": 14,
   "metadata": {
    "scrolled": false
   },
   "outputs": [
    {
     "data": {
      "text/html": [
       "<div>\n",
       "<style scoped>\n",
       "    .dataframe tbody tr th:only-of-type {\n",
       "        vertical-align: middle;\n",
       "    }\n",
       "\n",
       "    .dataframe tbody tr th {\n",
       "        vertical-align: top;\n",
       "    }\n",
       "\n",
       "    .dataframe thead th {\n",
       "        text-align: right;\n",
       "    }\n",
       "</style>\n",
       "<table border=\"1\" class=\"dataframe\">\n",
       "  <thead>\n",
       "    <tr style=\"text-align: right;\">\n",
       "      <th></th>\n",
       "      <th>transcript_ids</th>\n",
       "      <th>transcript_names</th>\n",
       "      <th>gene_ids</th>\n",
       "      <th>genes_names</th>\n",
       "    </tr>\n",
       "  </thead>\n",
       "  <tbody>\n",
       "    <tr>\n",
       "      <td>0</td>\n",
       "      <td>ENSMUST00000053020.7</td>\n",
       "      <td>Neurl1b-201</td>\n",
       "      <td>ENSMUSG00000034413</td>\n",
       "      <td>NEURL1B</td>\n",
       "    </tr>\n",
       "    <tr>\n",
       "      <td>1</td>\n",
       "      <td>ENSMUST00000055688.9</td>\n",
       "      <td>Phf13-201</td>\n",
       "      <td>ENSMUSG00000047777</td>\n",
       "      <td>PHF13</td>\n",
       "    </tr>\n",
       "    <tr>\n",
       "      <td>2</td>\n",
       "      <td>ENSMUST00000018506.12</td>\n",
       "      <td>Kpna2-201</td>\n",
       "      <td>ENSMUSG00000018362</td>\n",
       "      <td>KPNA2</td>\n",
       "    </tr>\n",
       "    <tr>\n",
       "      <td>3</td>\n",
       "      <td>ENSMUST00000089011.5</td>\n",
       "      <td>Snn-201</td>\n",
       "      <td>ENSMUSG00000037972</td>\n",
       "      <td>SNN</td>\n",
       "    </tr>\n",
       "    <tr>\n",
       "      <td>4</td>\n",
       "      <td>ENSMUST00000053063.6</td>\n",
       "      <td>Hexim1-201</td>\n",
       "      <td>ENSMUSG00000048878</td>\n",
       "      <td>HEXIM1</td>\n",
       "    </tr>\n",
       "    <tr>\n",
       "      <td>5</td>\n",
       "      <td>ENSMUST00000023686.14</td>\n",
       "      <td>Tmem50b-201</td>\n",
       "      <td>ENSMUSG00000022964</td>\n",
       "      <td>TMEM50B</td>\n",
       "    </tr>\n",
       "    <tr>\n",
       "      <td>6</td>\n",
       "      <td>ENSMUST00000019333.9</td>\n",
       "      <td>Rnf145-201</td>\n",
       "      <td>ENSMUSG00000019189</td>\n",
       "      <td>RNF145</td>\n",
       "    </tr>\n",
       "    <tr>\n",
       "      <td>7</td>\n",
       "      <td>ENSMUST00000056406.6</td>\n",
       "      <td>Fam78a-201</td>\n",
       "      <td>ENSMUSG00000050592</td>\n",
       "      <td>FAM78A</td>\n",
       "    </tr>\n",
       "    <tr>\n",
       "      <td>8</td>\n",
       "      <td>ENSMUST00000131422.7</td>\n",
       "      <td>Dna2-203</td>\n",
       "      <td>ENSMUSG00000036875</td>\n",
       "      <td>DNA2</td>\n",
       "    </tr>\n",
       "    <tr>\n",
       "      <td>9</td>\n",
       "      <td>ENSMUST00000236905.1</td>\n",
       "      <td>Gm50321-201</td>\n",
       "      <td>ENSMUSG00000118383</td>\n",
       "      <td>GM50321</td>\n",
       "    </tr>\n",
       "  </tbody>\n",
       "</table>\n",
       "</div>"
      ],
      "text/plain": [
       "          transcript_ids transcript_names            gene_ids genes_names\n",
       "0   ENSMUST00000053020.7      Neurl1b-201  ENSMUSG00000034413     NEURL1B\n",
       "1   ENSMUST00000055688.9        Phf13-201  ENSMUSG00000047777       PHF13\n",
       "2  ENSMUST00000018506.12        Kpna2-201  ENSMUSG00000018362       KPNA2\n",
       "3   ENSMUST00000089011.5          Snn-201  ENSMUSG00000037972         SNN\n",
       "4   ENSMUST00000053063.6       Hexim1-201  ENSMUSG00000048878      HEXIM1\n",
       "5  ENSMUST00000023686.14      Tmem50b-201  ENSMUSG00000022964     TMEM50B\n",
       "6   ENSMUST00000019333.9       Rnf145-201  ENSMUSG00000019189      RNF145\n",
       "7   ENSMUST00000056406.6       Fam78a-201  ENSMUSG00000050592      FAM78A\n",
       "8   ENSMUST00000131422.7         Dna2-203  ENSMUSG00000036875        DNA2\n",
       "9   ENSMUST00000236905.1      Gm50321-201  ENSMUSG00000118383     GM50321"
      ]
     },
     "execution_count": 14,
     "metadata": {},
     "output_type": "execute_result"
    }
   ],
   "source": [
    "downreg[:10]"
   ]
  },
  {
   "cell_type": "markdown",
   "metadata": {},
   "source": [
    "# Common genes"
   ]
  },
  {
   "cell_type": "markdown",
   "metadata": {},
   "source": [
    "Our final goal is to find genes that are present in all 3 dataset meaning to find genes expressed in Leydig cells that can be STAT3 target and were affected by our treatment with Erasin.\n",
    "\n",
    "One gene can have different names. In order to make sure that we don't miss any common genes just because they are synonyms in 3 data sets, we constructed a synonym reference, taking advantage of the gene synonym from HPA data set. With this, we first do 2 comparisons between Stat3 and HPA; Erasin and HPA. By doing this, gene name from Stat3 and Erasin will be compared to the original gene name in HPA and also to the synonym reference which can be traced back to the original gene name in the HPA dataset. This will result in a unified gene names for the final step.\n",
    "\n",
    "Finally, the results from these two comparison will be compaired to obtain the final list of genes common in 3 data set.\n",
    "\n",
    "We also try to include in the score obtain from the Stat3 data to evaluate the likelihood of a Stat3 target"
   ]
  },
  {
   "cell_type": "markdown",
   "metadata": {},
   "source": [
    "#### Constructing the HPA synonym reference"
   ]
  },
  {
   "cell_type": "code",
   "execution_count": 15,
   "metadata": {},
   "outputs": [],
   "source": [
    "genes_hpa = list(hpa_leydig.Gene)\n",
    "#original to synonyms reference\n",
    "genes_synonyms_hpa = {}\n",
    "\n",
    "#synonyms to original reference\n",
    "synonyms_genes_hpa = {}\n",
    "\n",
    "for gene,syns in zip(genes_hpa,hpa_leydig[\"Gene synonym\"]):\n",
    "    genes_synonyms_hpa[gene] = [syns]\n",
    "    if type(syns) == float:\n",
    "        continue\n",
    "    else:\n",
    "        for s in syns.split(\", \"):\n",
    "            synonyms_genes_hpa[s.upper()] = gene            "
   ]
  },
  {
   "cell_type": "markdown",
   "metadata": {},
   "source": [
    "#### Stat3 vs HPA"
   ]
  },
  {
   "cell_type": "code",
   "execution_count": 16,
   "metadata": {},
   "outputs": [],
   "source": [
    "stat3_targets_list = list(stat3_targets.Target_genes)\n",
    "stat3_scores_list = list(stat3_targets.Score)"
   ]
  },
  {
   "cell_type": "code",
   "execution_count": 17,
   "metadata": {},
   "outputs": [],
   "source": [
    "stat3_ley = []\n",
    "stat3_hpa_score = {}\n",
    "for g,s in zip(stat3_targets_list,stat3_scores_list):\n",
    "    if g in genes_synonyms_hpa:\n",
    "        stat3_ley.append(g)\n",
    "        stat3_hpa_score[g] = s\n",
    "    if g in synonyms_genes_hpa:\n",
    "        stat3_ley.append(synonyms_genes_hpa[g])\n",
    "        stat3_hpa_score[synonyms_genes_hpa[g]] = s"
   ]
  },
  {
   "cell_type": "code",
   "execution_count": 18,
   "metadata": {},
   "outputs": [
    {
     "name": "stdout",
     "output_type": "stream",
     "text": [
      "we have 6075 hit\n"
     ]
    }
   ],
   "source": [
    "print(f\"we have {len(stat3_ley)} hit\")"
   ]
  },
  {
   "cell_type": "markdown",
   "metadata": {},
   "source": [
    "Let's try to remove any duplicates"
   ]
  },
  {
   "cell_type": "code",
   "execution_count": 19,
   "metadata": {},
   "outputs": [
    {
     "name": "stdout",
     "output_type": "stream",
     "text": [
      "After duplicates elimination, we have 5858 hit\n"
     ]
    }
   ],
   "source": [
    "stat3_ley = set(stat3_ley)\n",
    "print(f\"After duplicates elimination, we have {len(stat3_ley)} hit\")"
   ]
  },
  {
   "cell_type": "markdown",
   "metadata": {},
   "source": [
    "#### Upregulated vs HPA"
   ]
  },
  {
   "cell_type": "code",
   "execution_count": 20,
   "metadata": {},
   "outputs": [],
   "source": [
    "up_leydig = []\n",
    "hpa_up_traceback = {}\n",
    "for g in upreg[\"genes_names\"]:\n",
    "    if g in genes_synonyms_hpa:\n",
    "        up_leydig.append(g)\n",
    "    if g in synonyms_genes_hpa:\n",
    "        up_leydig.append(synonyms_genes_hpa[g])\n",
    "        hpa_up_traceback[synonyms_genes_hpa[g]] = g"
   ]
  },
  {
   "cell_type": "code",
   "execution_count": 21,
   "metadata": {},
   "outputs": [
    {
     "name": "stdout",
     "output_type": "stream",
     "text": [
      "we have 315 hit\n"
     ]
    }
   ],
   "source": [
    "print(f\"we have {len(up_leydig)} hit\")"
   ]
  },
  {
   "cell_type": "code",
   "execution_count": 22,
   "metadata": {},
   "outputs": [
    {
     "name": "stdout",
     "output_type": "stream",
     "text": [
      "After duplicates elimination, we have 287 hit\n"
     ]
    }
   ],
   "source": [
    "up_leydig = set(up_leydig)\n",
    "print(f\"After duplicates elimination, we have {len(up_leydig)} hit\")"
   ]
  },
  {
   "cell_type": "markdown",
   "metadata": {},
   "source": [
    "#### Upregulated vs HPA vs Stat3"
   ]
  },
  {
   "cell_type": "code",
   "execution_count": 23,
   "metadata": {},
   "outputs": [],
   "source": [
    "up_stat3_leydig = []\n",
    "up_stat3_leydig_score = []\n",
    "for gene in up_leydig:\n",
    "    if gene in stat3_ley:\n",
    "        up_stat3_leydig.append(gene)\n",
    "        up_stat3_leydig_score.append(stat3_hpa_score[gene])\n",
    "#Transform the upregulated gene names back to its original.    \n",
    "up_stat3_leydig = [g if g not in hpa_up_traceback else hpa_up_traceback[g] for g in up_stat3_leydig ]\n"
   ]
  },
  {
   "cell_type": "code",
   "execution_count": 24,
   "metadata": {
    "scrolled": false
   },
   "outputs": [
    {
     "name": "stdout",
     "output_type": "stream",
     "text": [
      "Finally, we have 271 common upregulated genes in 3 dataset\n"
     ]
    }
   ],
   "source": [
    "print(f\"Finally, we have {len(up_stat3_leydig)} common upregulated genes in 3 dataset\")"
   ]
  },
  {
   "cell_type": "markdown",
   "metadata": {},
   "source": [
    "#### Downregulated vs HPA"
   ]
  },
  {
   "cell_type": "code",
   "execution_count": 25,
   "metadata": {},
   "outputs": [],
   "source": [
    "down_leydig = []\n",
    "hpa_down_traceback = {}\n",
    "for g in downreg[\"genes_names\"]:\n",
    "    if g in genes_synonyms_hpa:\n",
    "        down_leydig.append(g)\n",
    "    if g in synonyms_genes_hpa:\n",
    "        down_leydig.append(synonyms_genes_hpa[g])\n",
    "        hpa_down_traceback[synonyms_genes_hpa[g]] = g"
   ]
  },
  {
   "cell_type": "code",
   "execution_count": 26,
   "metadata": {},
   "outputs": [
    {
     "name": "stdout",
     "output_type": "stream",
     "text": [
      "we have 162 hit\n"
     ]
    }
   ],
   "source": [
    "print(f\"we have {len(down_leydig)} hit\")"
   ]
  },
  {
   "cell_type": "code",
   "execution_count": 27,
   "metadata": {},
   "outputs": [
    {
     "name": "stdout",
     "output_type": "stream",
     "text": [
      "After duplicates elimination, we have 157 hit\n"
     ]
    }
   ],
   "source": [
    "down_leydig = set(down_leydig)\n",
    "print(f\"After duplicates elimination, we have {len(down_leydig)} hit\")"
   ]
  },
  {
   "cell_type": "markdown",
   "metadata": {},
   "source": [
    "#### Downregulated vs HPA vs Stat3"
   ]
  },
  {
   "cell_type": "code",
   "execution_count": 28,
   "metadata": {},
   "outputs": [],
   "source": [
    "down_stat3_leydig = []\n",
    "down_stat3_leydig_score = []\n",
    "\n",
    "for gene in down_leydig:\n",
    "    if gene in stat3_ley:\n",
    "        down_stat3_leydig.append(gene)\n",
    "        down_stat3_leydig_score.append(stat3_hpa_score[gene])\n",
    "\n",
    "#Transform the upregulated gene names back to its original.    \n",
    "down_stat3_leydig = [g if g not in hpa_down_traceback else hpa_down_traceback[g] for g in down_stat3_leydig ]"
   ]
  },
  {
   "cell_type": "code",
   "execution_count": 29,
   "metadata": {
    "scrolled": false
   },
   "outputs": [
    {
     "name": "stdout",
     "output_type": "stream",
     "text": [
      "Finally, we have 150 common downregulated genes in 3 dataset\n"
     ]
    }
   ],
   "source": [
    "print(f\"Finally, we have {len(down_stat3_leydig)} common downregulated genes in 3 dataset\")"
   ]
  },
  {
   "cell_type": "markdown",
   "metadata": {},
   "source": [
    "# Let's save the result "
   ]
  },
  {
   "cell_type": "code",
   "execution_count": 30,
   "metadata": {},
   "outputs": [
    {
     "data": {
      "text/html": [
       "<div>\n",
       "<style scoped>\n",
       "    .dataframe tbody tr th:only-of-type {\n",
       "        vertical-align: middle;\n",
       "    }\n",
       "\n",
       "    .dataframe tbody tr th {\n",
       "        vertical-align: top;\n",
       "    }\n",
       "\n",
       "    .dataframe thead th {\n",
       "        text-align: right;\n",
       "    }\n",
       "</style>\n",
       "<table border=\"1\" class=\"dataframe\">\n",
       "  <thead>\n",
       "    <tr style=\"text-align: right;\">\n",
       "      <th></th>\n",
       "      <th>transcript_ids</th>\n",
       "      <th>transcript_names</th>\n",
       "      <th>gene_ids</th>\n",
       "      <th>genes_names</th>\n",
       "      <th>hit</th>\n",
       "      <th>score</th>\n",
       "    </tr>\n",
       "  </thead>\n",
       "  <tbody>\n",
       "    <tr>\n",
       "      <td>0</td>\n",
       "      <td>ENSMUST00000039926.9</td>\n",
       "      <td>Dusp8-201</td>\n",
       "      <td>ENSMUSG00000037887</td>\n",
       "      <td>DUSP8</td>\n",
       "      <td>0</td>\n",
       "      <td>-1.000000</td>\n",
       "    </tr>\n",
       "    <tr>\n",
       "      <td>1</td>\n",
       "      <td>ENSMUST00000026475.14</td>\n",
       "      <td>Ddit3-201</td>\n",
       "      <td>ENSMUSG00000025408</td>\n",
       "      <td>DDIT3</td>\n",
       "      <td>0</td>\n",
       "      <td>-1.000000</td>\n",
       "    </tr>\n",
       "    <tr>\n",
       "      <td>2</td>\n",
       "      <td>ENSMUST00000100857.9</td>\n",
       "      <td>Dusp16-201</td>\n",
       "      <td>ENSMUSG00000030203</td>\n",
       "      <td>DUSP16</td>\n",
       "      <td>0</td>\n",
       "      <td>-1.000000</td>\n",
       "    </tr>\n",
       "    <tr>\n",
       "      <td>3</td>\n",
       "      <td>ENSMUST00000146857.1</td>\n",
       "      <td>Gm11274-201</td>\n",
       "      <td>ENSMUSG00000085331</td>\n",
       "      <td>GM11274</td>\n",
       "      <td>0</td>\n",
       "      <td>-1.000000</td>\n",
       "    </tr>\n",
       "    <tr>\n",
       "      <td>4</td>\n",
       "      <td>ENSMUST00000080511.2</td>\n",
       "      <td>H1f5-201</td>\n",
       "      <td>ENSMUSG00000058773</td>\n",
       "      <td>H1F5</td>\n",
       "      <td>0</td>\n",
       "      <td>-1.000000</td>\n",
       "    </tr>\n",
       "    <tr>\n",
       "      <td>5</td>\n",
       "      <td>ENSMUST00000021413.8</td>\n",
       "      <td>Nfkbia-201</td>\n",
       "      <td>ENSMUSG00000021025</td>\n",
       "      <td>NFKBIA</td>\n",
       "      <td>0</td>\n",
       "      <td>-1.000000</td>\n",
       "    </tr>\n",
       "    <tr>\n",
       "      <td>6</td>\n",
       "      <td>ENSMUST00000024988.14</td>\n",
       "      <td>C3-201</td>\n",
       "      <td>ENSMUSG00000024164</td>\n",
       "      <td>C3</td>\n",
       "      <td>1</td>\n",
       "      <td>17.755814</td>\n",
       "    </tr>\n",
       "    <tr>\n",
       "      <td>7</td>\n",
       "      <td>ENSMUST00000027012.13</td>\n",
       "      <td>Casp4-201</td>\n",
       "      <td>ENSMUSG00000033538</td>\n",
       "      <td>CASP4</td>\n",
       "      <td>1</td>\n",
       "      <td>108.337209</td>\n",
       "    </tr>\n",
       "    <tr>\n",
       "      <td>8</td>\n",
       "      <td>ENSMUST00000105105.3</td>\n",
       "      <td>H3c4-201</td>\n",
       "      <td>ENSMUSG00000099583</td>\n",
       "      <td>H3C4</td>\n",
       "      <td>0</td>\n",
       "      <td>-1.000000</td>\n",
       "    </tr>\n",
       "    <tr>\n",
       "      <td>9</td>\n",
       "      <td>ENSMUST00000059619.2</td>\n",
       "      <td>Cdc42ep1-201</td>\n",
       "      <td>ENSMUSG00000049521</td>\n",
       "      <td>CDC42EP1</td>\n",
       "      <td>0</td>\n",
       "      <td>-1.000000</td>\n",
       "    </tr>\n",
       "  </tbody>\n",
       "</table>\n",
       "</div>"
      ],
      "text/plain": [
       "          transcript_ids transcript_names            gene_ids genes_names  \\\n",
       "0   ENSMUST00000039926.9        Dusp8-201  ENSMUSG00000037887       DUSP8   \n",
       "1  ENSMUST00000026475.14        Ddit3-201  ENSMUSG00000025408       DDIT3   \n",
       "2   ENSMUST00000100857.9       Dusp16-201  ENSMUSG00000030203      DUSP16   \n",
       "3   ENSMUST00000146857.1      Gm11274-201  ENSMUSG00000085331     GM11274   \n",
       "4   ENSMUST00000080511.2         H1f5-201  ENSMUSG00000058773        H1F5   \n",
       "5   ENSMUST00000021413.8       Nfkbia-201  ENSMUSG00000021025      NFKBIA   \n",
       "6  ENSMUST00000024988.14           C3-201  ENSMUSG00000024164          C3   \n",
       "7  ENSMUST00000027012.13        Casp4-201  ENSMUSG00000033538       CASP4   \n",
       "8   ENSMUST00000105105.3         H3c4-201  ENSMUSG00000099583        H3C4   \n",
       "9   ENSMUST00000059619.2     Cdc42ep1-201  ENSMUSG00000049521    CDC42EP1   \n",
       "\n",
       "   hit       score  \n",
       "0    0   -1.000000  \n",
       "1    0   -1.000000  \n",
       "2    0   -1.000000  \n",
       "3    0   -1.000000  \n",
       "4    0   -1.000000  \n",
       "5    0   -1.000000  \n",
       "6    1   17.755814  \n",
       "7    1  108.337209  \n",
       "8    0   -1.000000  \n",
       "9    0   -1.000000  "
      ]
     },
     "execution_count": 30,
     "metadata": {},
     "output_type": "execute_result"
    }
   ],
   "source": [
    "hit = []\n",
    "score = []\n",
    "for i in range(upreg.shape[0]):\n",
    "    gene = upreg.iloc[i][\"genes_names\"]\n",
    "    if gene in up_stat3_leydig:\n",
    "        idx = up_stat3_leydig.index(gene)\n",
    "        score.append(up_stat3_leydig_score[idx])\n",
    "        hit.append(1)\n",
    "    else:\n",
    "        score.append(-1)\n",
    "        hit.append(0)\n",
    "upreg[\"hit\"] = hit\n",
    "upreg[\"score\"] = score\n",
    "upreg[:10]"
   ]
  },
  {
   "cell_type": "code",
   "execution_count": 31,
   "metadata": {},
   "outputs": [
    {
     "data": {
      "text/html": [
       "<div>\n",
       "<style scoped>\n",
       "    .dataframe tbody tr th:only-of-type {\n",
       "        vertical-align: middle;\n",
       "    }\n",
       "\n",
       "    .dataframe tbody tr th {\n",
       "        vertical-align: top;\n",
       "    }\n",
       "\n",
       "    .dataframe thead th {\n",
       "        text-align: right;\n",
       "    }\n",
       "</style>\n",
       "<table border=\"1\" class=\"dataframe\">\n",
       "  <thead>\n",
       "    <tr style=\"text-align: right;\">\n",
       "      <th></th>\n",
       "      <th>transcript_ids</th>\n",
       "      <th>transcript_names</th>\n",
       "      <th>gene_ids</th>\n",
       "      <th>genes_names</th>\n",
       "      <th>hit</th>\n",
       "      <th>score</th>\n",
       "    </tr>\n",
       "  </thead>\n",
       "  <tbody>\n",
       "    <tr>\n",
       "      <td>0</td>\n",
       "      <td>ENSMUST00000053020.7</td>\n",
       "      <td>Neurl1b-201</td>\n",
       "      <td>ENSMUSG00000034413</td>\n",
       "      <td>NEURL1B</td>\n",
       "      <td>1</td>\n",
       "      <td>1.581395</td>\n",
       "    </tr>\n",
       "    <tr>\n",
       "      <td>1</td>\n",
       "      <td>ENSMUST00000055688.9</td>\n",
       "      <td>Phf13-201</td>\n",
       "      <td>ENSMUSG00000047777</td>\n",
       "      <td>PHF13</td>\n",
       "      <td>1</td>\n",
       "      <td>58.220930</td>\n",
       "    </tr>\n",
       "    <tr>\n",
       "      <td>2</td>\n",
       "      <td>ENSMUST00000018506.12</td>\n",
       "      <td>Kpna2-201</td>\n",
       "      <td>ENSMUSG00000018362</td>\n",
       "      <td>KPNA2</td>\n",
       "      <td>0</td>\n",
       "      <td>-1.000000</td>\n",
       "    </tr>\n",
       "    <tr>\n",
       "      <td>3</td>\n",
       "      <td>ENSMUST00000089011.5</td>\n",
       "      <td>Snn-201</td>\n",
       "      <td>ENSMUSG00000037972</td>\n",
       "      <td>SNN</td>\n",
       "      <td>1</td>\n",
       "      <td>26.348837</td>\n",
       "    </tr>\n",
       "    <tr>\n",
       "      <td>4</td>\n",
       "      <td>ENSMUST00000053063.6</td>\n",
       "      <td>Hexim1-201</td>\n",
       "      <td>ENSMUSG00000048878</td>\n",
       "      <td>HEXIM1</td>\n",
       "      <td>1</td>\n",
       "      <td>141.953488</td>\n",
       "    </tr>\n",
       "    <tr>\n",
       "      <td>5</td>\n",
       "      <td>ENSMUST00000023686.14</td>\n",
       "      <td>Tmem50b-201</td>\n",
       "      <td>ENSMUSG00000022964</td>\n",
       "      <td>TMEM50B</td>\n",
       "      <td>1</td>\n",
       "      <td>28.232558</td>\n",
       "    </tr>\n",
       "    <tr>\n",
       "      <td>6</td>\n",
       "      <td>ENSMUST00000019333.9</td>\n",
       "      <td>Rnf145-201</td>\n",
       "      <td>ENSMUSG00000019189</td>\n",
       "      <td>RNF145</td>\n",
       "      <td>0</td>\n",
       "      <td>-1.000000</td>\n",
       "    </tr>\n",
       "    <tr>\n",
       "      <td>7</td>\n",
       "      <td>ENSMUST00000056406.6</td>\n",
       "      <td>Fam78a-201</td>\n",
       "      <td>ENSMUSG00000050592</td>\n",
       "      <td>FAM78A</td>\n",
       "      <td>1</td>\n",
       "      <td>44.755814</td>\n",
       "    </tr>\n",
       "    <tr>\n",
       "      <td>8</td>\n",
       "      <td>ENSMUST00000131422.7</td>\n",
       "      <td>Dna2-203</td>\n",
       "      <td>ENSMUSG00000036875</td>\n",
       "      <td>DNA2</td>\n",
       "      <td>1</td>\n",
       "      <td>8.825581</td>\n",
       "    </tr>\n",
       "    <tr>\n",
       "      <td>9</td>\n",
       "      <td>ENSMUST00000236905.1</td>\n",
       "      <td>Gm50321-201</td>\n",
       "      <td>ENSMUSG00000118383</td>\n",
       "      <td>GM50321</td>\n",
       "      <td>0</td>\n",
       "      <td>-1.000000</td>\n",
       "    </tr>\n",
       "  </tbody>\n",
       "</table>\n",
       "</div>"
      ],
      "text/plain": [
       "          transcript_ids transcript_names            gene_ids genes_names  \\\n",
       "0   ENSMUST00000053020.7      Neurl1b-201  ENSMUSG00000034413     NEURL1B   \n",
       "1   ENSMUST00000055688.9        Phf13-201  ENSMUSG00000047777       PHF13   \n",
       "2  ENSMUST00000018506.12        Kpna2-201  ENSMUSG00000018362       KPNA2   \n",
       "3   ENSMUST00000089011.5          Snn-201  ENSMUSG00000037972         SNN   \n",
       "4   ENSMUST00000053063.6       Hexim1-201  ENSMUSG00000048878      HEXIM1   \n",
       "5  ENSMUST00000023686.14      Tmem50b-201  ENSMUSG00000022964     TMEM50B   \n",
       "6   ENSMUST00000019333.9       Rnf145-201  ENSMUSG00000019189      RNF145   \n",
       "7   ENSMUST00000056406.6       Fam78a-201  ENSMUSG00000050592      FAM78A   \n",
       "8   ENSMUST00000131422.7         Dna2-203  ENSMUSG00000036875        DNA2   \n",
       "9   ENSMUST00000236905.1      Gm50321-201  ENSMUSG00000118383     GM50321   \n",
       "\n",
       "   hit       score  \n",
       "0    1    1.581395  \n",
       "1    1   58.220930  \n",
       "2    0   -1.000000  \n",
       "3    1   26.348837  \n",
       "4    1  141.953488  \n",
       "5    1   28.232558  \n",
       "6    0   -1.000000  \n",
       "7    1   44.755814  \n",
       "8    1    8.825581  \n",
       "9    0   -1.000000  "
      ]
     },
     "execution_count": 31,
     "metadata": {},
     "output_type": "execute_result"
    }
   ],
   "source": [
    "hit = []\n",
    "score = []\n",
    "for i in range(downreg.shape[0]):\n",
    "    gene = downreg.iloc[i][\"genes_names\"]\n",
    "    if gene in down_stat3_leydig:\n",
    "        idx =down_stat3_leydig.index(gene)\n",
    "        score.append(down_stat3_leydig_score[idx])\n",
    "        hit.append(1)\n",
    "    else:\n",
    "        score.append(-1)\n",
    "        hit.append(0)\n",
    "downreg[\"hit\"] = hit\n",
    "downreg[\"score\"] = score\n",
    "downreg[:10]"
   ]
  },
  {
   "cell_type": "code",
   "execution_count": 32,
   "metadata": {},
   "outputs": [],
   "source": [
    "upreg.to_excel(\"./final_results/upregulated_hits.xlsx\", header=True, index=False)\n",
    "downreg.to_excel(\"./final_results/downregulated_hits.xlsx\", header=True, index=False)"
   ]
  }
 ],
 "metadata": {
  "kernelspec": {
   "display_name": "Python 3",
   "language": "python",
   "name": "python3"
  },
  "language_info": {
   "codemirror_mode": {
    "name": "ipython",
    "version": 3
   },
   "file_extension": ".py",
   "mimetype": "text/x-python",
   "name": "python",
   "nbconvert_exporter": "python",
   "pygments_lexer": "ipython3",
   "version": "3.7.4"
  }
 },
 "nbformat": 4,
 "nbformat_minor": 2
}
